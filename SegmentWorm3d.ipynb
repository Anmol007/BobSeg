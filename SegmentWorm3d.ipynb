{
 "cells": [
  {
   "cell_type": "code",
   "execution_count": 1,
   "metadata": {
    "collapsed": false
   },
   "outputs": [
    {
     "name": "stdout",
     "output_type": "stream",
     "text": [
      "<pyopencl.Device 'HD Graphics 4000' on 'Apple' at 0x1024400>\n"
     ]
    },
    {
     "name": "stderr",
     "output_type": "stream",
     "text": [
      "/Users/jug/Library/Enthought/Canopy_64bit/User/lib/python2.7/site-packages/pyopencl/__init__.py:207: CompilerWarning: Non-empty compiler output encountered. Set the environment variable PYOPENCL_COMPILER_OUTPUT=1 to see more.\n",
      "  \"to see more.\", CompilerWarning)\n"
     ]
    },
    {
     "name": "stdout",
     "output_type": "stream",
     "text": [
      "could not open /Users/jug/.spimagine\n",
      "<pyopencl.Device 'HD Graphics 4000' on 'Apple' at 0x1024400>\n"
     ]
    }
   ],
   "source": [
    "from mpl_toolkits.mplot3d import Axes3D\n",
    "import matplotlib.pyplot as plt\n",
    "import pylab as pl\n",
    "\n",
    "import os\n",
    "import sys\n",
    "\n",
    "import numpy as np\n",
    "from scipy import ndimage as ni\n",
    "import maxflow\n",
    "\n",
    "from tifffile import imread, imsave\n",
    "import cPickle as pickle\n",
    "\n",
    "from skimage.filters import gaussian_filter\n",
    "\n",
    "from spimagine import volshow\n",
    "\n",
    "%reload_ext autoreload\n",
    "%autoreload 2\n",
    "\n",
    "%matplotlib qt\n",
    "\n",
    "# %matplotlib inline\n",
    "# %pylab inline\n",
    "# pylab.rcParams['figure.figsize'] = (5, 5)"
   ]
  },
  {
   "cell_type": "markdown",
   "metadata": {},
   "source": [
    "### Load sampled unit sphere and set parameters"
   ]
  },
  {
   "cell_type": "markdown",
   "metadata": {},
   "source": [
    "### Loading image to be segmented"
   ]
  },
  {
   "cell_type": "code",
   "execution_count": 26,
   "metadata": {
    "collapsed": false
   },
   "outputs": [
    {
     "name": "stdout",
     "output_type": "stream",
     "text": [
      "Image dimensions:  (41, 457, 596)\n",
      "Image min/max:     -0.314256730763 0.661945663949\n"
     ]
    }
   ],
   "source": [
    "# filename = \"sample3d_cup1.tif\"\n",
    "filename = '/Volumes/FastData/ProjectGoldstein/Maddox_LITE/mneongreen_membrane_488_90percentpower_nobinning_60xWI_5msexposure_072916_single_timepoint_crop.tif'\n",
    "\n",
    "sigma = [1,3,3]\n",
    "image = imread(filename)\n",
    "image = image - np.mean(image)\n",
    "image = image / np.var(image)\n",
    "image_smooth = gaussian_filter(image,sigma)\n",
    "print 'Image dimensions: ', image.shape\n",
    "print 'Image min/max:    ', np.min(image), np.max(image)"
   ]
  },
  {
   "cell_type": "code",
   "execution_count": 27,
   "metadata": {
    "collapsed": false
   },
   "outputs": [],
   "source": [
    "volwin = volshow(image, stackUnits = [1.,1.,4.], raise_window=False)\n",
    "# volwin = volshow(image_smooth, stackUnits = [1.,1.,4.], raise_window=False)"
   ]
  },
  {
   "cell_type": "code",
   "execution_count": 54,
   "metadata": {
    "collapsed": false
   },
   "outputs": [],
   "source": [
    "plt.rcParams['figure.figsize'] = (5, 5)\n",
    "\n",
    "# load pickeled unit sphere sampling\n",
    "with open('sphere_sampling.pkl','r') as f:\n",
    "    dictSphereData = pickle.load(f)\n",
    "    \n",
    "# sampling parameters\n",
    "num_columns = dictSphereData['n']\n",
    "col_vectors = dictSphereData['points']\n",
    "neighbors = dictSphereData['neighbors']\n",
    "neighbors_of = dictSphereData['neighbors_of']\n",
    "num_neighbors = len(neighbors)/num_columns\n",
    "K = 30       # as in Wu & Chen 2002\n",
    "\n",
    "# net surface related parameters\n",
    "max_delta_k = 5\n",
    "\n",
    "# positioning of net in image\n",
    "center_x = image.shape[2] / 2\n",
    "center_y = image.shape[1] / 2\n",
    "center_z = image.shape[0] / 2\n",
    "max_r_x = image.shape[2] / 2\n",
    "max_r_y = image.shape[1] / 2\n",
    "max_r_z = image.shape[0] / 2\n",
    "min_r_x = image.shape[2] / 4\n",
    "min_r_y = image.shape[1] / 4\n",
    "min_r_z = image.shape[0] / 4"
   ]
  },
  {
   "cell_type": "markdown",
   "metadata": {},
   "source": [
    "# Building Graph"
   ]
  },
  {
   "cell_type": "markdown",
   "metadata": {},
   "source": [
    "### Function definitions"
   ]
  },
  {
   "cell_type": "code",
   "execution_count": 55,
   "metadata": {
    "collapsed": false
   },
   "outputs": [],
   "source": [
    "from myfunctions import *"
   ]
  },
  {
   "cell_type": "code",
   "execution_count": 56,
   "metadata": {
    "collapsed": true
   },
   "outputs": [],
   "source": [
    "# = = = = = = = = = = = = = = = = = = = = = = = = = = = = = = = = = = = = = \n",
    "# I LOCALLY OVERWRITE THE FUNCTION FROM myfunctions.py HERE TO PLAY WITH IT\n",
    "# = = = = = = = = = = = = = = = = = = = = = = = = = = = = = = = = = = = = = \n",
    "\n",
    "def build_flow_network( num_columns, neighbors_of, K, num_neighbors, max_delta_k, w_tilde, alpha=0 ):\n",
    "    '''\n",
    "    Builds the flow network that can solve the V-Weight Net Surface Problem\n",
    "    Returns a tuple (g, nodes) consisting of the flow network g, and its nodes.\n",
    "    '''\n",
    "    INF = 10000000\n",
    "\n",
    "    num_nodes = num_columns*K\n",
    "    num_edges = (num_nodes*num_neighbors*(max_delta_k+max_delta_k+1))/2\n",
    "\n",
    "    g = maxflow.Graph[float](num_nodes,num_edges)\n",
    "    nodes = g.add_nodes(num_nodes)\n",
    "\n",
    "    for i in range(num_columns):\n",
    "\n",
    "        # connect column to s,t\n",
    "        for k in range(K):\n",
    "            if w_tilde[i,k] < 0:\n",
    "                g.add_tedge(i*K+k, -w_tilde[i,k], 0)\n",
    "            else:\n",
    "                g.add_tedge(i*K+k, 0, w_tilde[i,k])\n",
    "\n",
    "        # connect column to i-chain\n",
    "        for k in range(1,K):\n",
    "            g.add_edge(i*K+k, i*K+k-1, INF, 0)\n",
    "\n",
    "        # connect column to neighbors\n",
    "        for k in range(K):\n",
    "            for j in neighbors_of[i]:\n",
    "                k2 = max(0,k-max_delta_k)\n",
    "                g.add_edge(i*K+k, j*K+k2, INF, 0)\n",
    "                # add constant cost penalty \\alpha\n",
    "                g.add_edge(i*K+k, j*K+k, alpha, 0)\n",
    "\n",
    "    return g, nodes"
   ]
  },
  {
   "cell_type": "markdown",
   "metadata": {},
   "source": [
    "### Compute weights *w*"
   ]
  },
  {
   "cell_type": "code",
   "execution_count": 57,
   "metadata": {
    "collapsed": false
   },
   "outputs": [],
   "source": [
    "center = ( center_x, center_y, center_z)\n",
    "max_radii = ( max_r_x, max_r_y, max_r_z )\n",
    "min_radii = ( min_r_x, min_r_y, min_r_z )\n",
    "w, w_tilde = compute_weights( image_smooth, center, K, max_radii, col_vectors, inverse_order=True, min_radii=min_radii )"
   ]
  },
  {
   "cell_type": "markdown",
   "metadata": {},
   "source": [
    "### Build and solve flow network"
   ]
  },
  {
   "cell_type": "code",
   "execution_count": 58,
   "metadata": {
    "collapsed": false
   },
   "outputs": [],
   "source": [
    "g,nodes = build_flow_network( num_columns, neighbors_of, K, num_neighbors, max_delta_k, w_tilde, 0 )\n",
    "maxval = g.maxflow()"
   ]
  },
  {
   "cell_type": "markdown",
   "metadata": {},
   "source": [
    "### Visualize results"
   ]
  },
  {
   "cell_type": "code",
   "execution_count": 59,
   "metadata": {
    "collapsed": false
   },
   "outputs": [
    {
     "name": "stdout",
     "output_type": "stream",
     "text": [
      "Size of s and t component:  13638 1722\n"
     ]
    }
   ],
   "source": [
    "size_s_comp = 0\n",
    "size_t_comp = 0\n",
    "for n in nodes:\n",
    "    seg = g.get_segment(n)\n",
    "    if seg == 0:\n",
    "        size_s_comp += 1\n",
    "    else:\n",
    "        size_t_comp += 1\n",
    "    #print \"Segment of the node \",n,\":\", seg\n",
    "print \"Size of s and t component: \", size_s_comp, size_t_comp"
   ]
  },
  {
   "cell_type": "code",
   "execution_count": 60,
   "metadata": {
    "collapsed": false
   },
   "outputs": [],
   "source": [
    "# imgout = np.zeros(image.shape)\n",
    "# valtoplace = 1\n",
    "imgout = np.copy(image)\n",
    "dotval_in_value = 1.1 * np.max(image)\n",
    "dotval_out_value = 0.7 * np.max(image) #0.9 * np.min(image)\n",
    "for i in range(num_columns):\n",
    "    for k in range(K):\n",
    "        x = int(center_x + col_vectors[i,0] * min_r_x + col_vectors[i,0] * (K-1-k)/float(K) * (max_r_x-min_r_x))\n",
    "        y = int(center_y + col_vectors[i,1] * min_r_y + col_vectors[i,1] * (K-1-k)/float(K) * (max_r_y-min_r_y))\n",
    "        z = int(center_z + col_vectors[i,2] * min_r_z + col_vectors[i,2] * (K-1-k)/float(K) * (max_r_z-min_r_z))\n",
    "        seg = g.get_segment(i*K+k)\n",
    "        if seg == 1: # show 'outside' class (which is inside the embryo)\n",
    "            if x>=0 and y>=0 and z>=0 and \\\n",
    "               x<image.shape[2] and y<image.shape[1] and z<image.shape[0]:\n",
    "                    imgout[z,y,x] = dotval_in_value\n",
    "        else:\n",
    "            if x>=0 and y>=0 and z>=0 and \\\n",
    "               x<image.shape[2] and y<image.shape[1] and z<image.shape[0]:\n",
    "                    imgout[z,y,x] *= 1 # = dotval_out_value"
   ]
  },
  {
   "cell_type": "code",
   "execution_count": 61,
   "metadata": {
    "collapsed": true
   },
   "outputs": [],
   "source": [
    "volwin = volshow(imgout, stackUnits = [1.,1.,4.], raise_window=True)"
   ]
  },
  {
   "cell_type": "code",
   "execution_count": null,
   "metadata": {
    "collapsed": true
   },
   "outputs": [],
   "source": []
  }
 ],
 "metadata": {
  "kernelspec": {
   "display_name": "Python 2",
   "language": "python",
   "name": "python2"
  },
  "language_info": {
   "codemirror_mode": {
    "name": "ipython",
    "version": 2
   },
   "file_extension": ".py",
   "mimetype": "text/x-python",
   "name": "python",
   "nbconvert_exporter": "python",
   "pygments_lexer": "ipython2",
   "version": "2.7.6"
  }
 },
 "nbformat": 4,
 "nbformat_minor": 0
}
