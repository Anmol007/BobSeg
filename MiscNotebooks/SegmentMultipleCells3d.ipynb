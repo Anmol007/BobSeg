{
 "cells": [
  {
   "cell_type": "code",
   "execution_count": 1,
   "metadata": {
    "collapsed": false
   },
   "outputs": [
    {
     "name": "stdout",
     "output_type": "stream",
     "text": [
      "<pyopencl.Device 'HD Graphics 4000' on 'Apple' at 0x1024400>\n"
     ]
    },
    {
     "name": "stderr",
     "output_type": "stream",
     "text": [
      "/Users/jug/Library/Enthought/Canopy_64bit/User/lib/python2.7/site-packages/pyopencl/__init__.py:207: CompilerWarning: Non-empty compiler output encountered. Set the environment variable PYOPENCL_COMPILER_OUTPUT=1 to see more.\n",
      "  \"to see more.\", CompilerWarning)\n"
     ]
    },
    {
     "name": "stdout",
     "output_type": "stream",
     "text": [
      "could not open /Users/jug/.spimagine\n",
      "<pyopencl.Device 'HD Graphics 4000' on 'Apple' at 0x1024400>\n"
     ]
    }
   ],
   "source": [
    "from mpl_toolkits.mplot3d import Axes3D\n",
    "import matplotlib.pyplot as plt\n",
    "import pylab as pl\n",
    "\n",
    "import os\n",
    "import sys\n",
    "\n",
    "import numpy as np\n",
    "from scipy import ndimage as ni\n",
    "import maxflow\n",
    "\n",
    "from tifffile import imread, imsave\n",
    "import cPickle as pickle\n",
    "\n",
    "from skimage.filters import gaussian_filter\n",
    "\n",
    "from spimagine import volshow\n",
    "from spimagine import EllipsoidMesh, Mesh\n",
    "\n",
    "%reload_ext autoreload\n",
    "%autoreload 2\n",
    "\n",
    "%matplotlib qt\n",
    "\n",
    "# %matplotlib inline\n",
    "# %pylab inline\n",
    "# pylab.rcParams['figure.figsize'] = (5, 5)"
   ]
  },
  {
   "cell_type": "markdown",
   "metadata": {},
   "source": [
    "### Loading image to be segmented"
   ]
  },
  {
   "cell_type": "code",
   "execution_count": 2,
   "metadata": {
    "collapsed": false
   },
   "outputs": [
    {
     "name": "stdout",
     "output_type": "stream",
     "text": [
      "Image dimensions:  (31, 512, 512)\n",
      "Image min/max:     2020 3016\n"
     ]
    }
   ],
   "source": [
    "filename = '/Users/jug/Dropbox/ProjectGoldstein/2016-09-22_fromMark/092216_PH-mCherry-02_w2SD mCherry_t1.TIF'\n",
    "\n",
    "sigma = [1,3,3]\n",
    "image = imread(filename)\n",
    "image_smooth = gaussian_filter(image,sigma)\n",
    "print 'Image dimensions: ', image.shape\n",
    "print 'Image min/max:    ', np.min(image), np.max(image)"
   ]
  },
  {
   "cell_type": "markdown",
   "metadata": {},
   "source": [
    "### Load sampled unit sphere and set parameters"
   ]
  },
  {
   "cell_type": "code",
   "execution_count": 3,
   "metadata": {
    "collapsed": false
   },
   "outputs": [],
   "source": [
    "plt.rcParams['figure.figsize'] = (5, 5)\n",
    "\n",
    "# load pickeled unit sphere sampling\n",
    "with open('sphere_sampling.pkl','r') as f:\n",
    "    dictSphereData = pickle.load(f)\n",
    "    \n",
    "# sampling parameters\n",
    "num_columns = dictSphereData['n']\n",
    "col_vectors = dictSphereData['points']\n",
    "neighbors = dictSphereData['neighbors']\n",
    "neighbors_of = dictSphereData['neighbors_of']\n",
    "num_neighbors = len(neighbors)/num_columns\n",
    "K = 30       # as in Wu & Chen 2002\n",
    "\n",
    "# net surface related parameters\n",
    "max_delta_k = 4\n",
    "\n",
    "# positioning of net in image\n",
    "\n",
    "# A SWEET SET OF PARAMS\n",
    "# center_x = 160\n",
    "# center_y = 190\n",
    "# center_z = 7\n",
    "# max_r_x = 40\n",
    "# max_r_y = 40\n",
    "# max_r_z = 12\n",
    "\n",
    "center_x = 110\n",
    "center_y = 300\n",
    "center_z = 15\n",
    "max_r_x = image.shape[2] / 6\n",
    "max_r_y = image.shape[1] / 6\n",
    "max_r_z = image.shape[0] / 3\n",
    "min_r_x = 4\n",
    "min_r_y = 4\n",
    "min_r_z = 1"
   ]
  },
  {
   "cell_type": "code",
   "execution_count": 4,
   "metadata": {
    "collapsed": false
   },
   "outputs": [],
   "source": [
    "volwin = volshow(image, stackUnits = [1.,1.,10.], raise_window=False)\n",
    "# volwin = volshow(image_smooth, stackUnits = [1.,1.,4.], raise_window=False)"
   ]
  },
  {
   "cell_type": "markdown",
   "metadata": {},
   "source": [
    "# Building Graph"
   ]
  },
  {
   "cell_type": "markdown",
   "metadata": {},
   "source": [
    "### Function definitions"
   ]
  },
  {
   "cell_type": "code",
   "execution_count": 5,
   "metadata": {
    "collapsed": false
   },
   "outputs": [],
   "source": [
    "from myfunctions import *"
   ]
  },
  {
   "cell_type": "markdown",
   "metadata": {},
   "source": [
    "### Compute weights *w*"
   ]
  },
  {
   "cell_type": "code",
   "execution_count": 6,
   "metadata": {
    "collapsed": false
   },
   "outputs": [],
   "source": [
    "center = ( center_x, center_y, center_z)\n",
    "max_radii = ( max_r_x, max_r_y, max_r_z )\n",
    "min_radii = ( min_r_x, min_r_y, min_r_z )\n",
    "w, w_tilde = compute_weights( image, center, K, max_radii, col_vectors, min_radii=min_radii )"
   ]
  },
  {
   "cell_type": "markdown",
   "metadata": {},
   "source": [
    "### Build and solve flow network"
   ]
  },
  {
   "cell_type": "code",
   "execution_count": 7,
   "metadata": {
    "collapsed": false
   },
   "outputs": [],
   "source": [
    "g,nodes = build_flow_network( num_columns, neighbors_of, K, num_neighbors, max_delta_k, w_tilde )\n",
    "maxval = g.maxflow()"
   ]
  },
  {
   "cell_type": "markdown",
   "metadata": {},
   "source": [
    "### Visualize results"
   ]
  },
  {
   "cell_type": "code",
   "execution_count": 8,
   "metadata": {
    "collapsed": false
   },
   "outputs": [
    {
     "name": "stdout",
     "output_type": "stream",
     "text": [
      "Size of s and t component:  7914 7446\n"
     ]
    }
   ],
   "source": [
    "size_s_comp = 0\n",
    "size_t_comp = 0\n",
    "for n in nodes:\n",
    "    seg = g.get_segment(n)\n",
    "    if seg == 0:\n",
    "        size_s_comp += 1\n",
    "    else:\n",
    "        size_t_comp += 1\n",
    "    #print \"Segment of the node \",n,\":\", seg\n",
    "print \"Size of s and t component: \", size_s_comp, size_t_comp"
   ]
  },
  {
   "cell_type": "code",
   "execution_count": 9,
   "metadata": {
    "collapsed": false
   },
   "outputs": [],
   "source": [
    "def create_dot_annotatation_image():\n",
    "    # imgout = np.zeros(image.shape)\n",
    "    # valtoplace = 1\n",
    "    imgout = np.copy(image) #np.zeros_like(image)\n",
    "    valtoplace = 1.0*np.max(image)\n",
    "    for i in range(num_columns):\n",
    "        for k in range(K):\n",
    "            if g.get_segment(i*K+k) == 1: break # leave as soon as k is first outside point\n",
    "        x = int(center_x + col_vectors[i,0] * min_r_x + col_vectors[i,0] * (k-1)/float(K) * (max_r_x-min_r_x))\n",
    "        y = int(center_y + col_vectors[i,1] * min_r_y + col_vectors[i,1] * (k-1)/float(K) * (max_r_y-min_r_y))\n",
    "        z = int(center_z + col_vectors[i,2] * min_r_z + col_vectors[i,2] * (k-1)/float(K) * (max_r_z-min_r_z))\n",
    "        if x>=0 and y>=0 and z>=0 and \\\n",
    "           x<image.shape[2] and y<image.shape[1] and z<image.shape[0]:\n",
    "            dc = [[ 0, 0, 0],\n",
    "                  [ 0,-1, 0],\n",
    "                  [ 0, 1, 0],\n",
    "                  [ 0, 0,-1],\n",
    "                  [ 0, 0, 1]]\n",
    "            for dz,dy,dx in dc:\n",
    "                imgout[z+dz,y+dy,x+dx] = valtoplace\n",
    "    return imgout\n",
    "\n",
    "# IDEE: draw line to all neighbors (at height k) along 3d bresenham"
   ]
  },
  {
   "cell_type": "code",
   "execution_count": 10,
   "metadata": {
    "collapsed": true
   },
   "outputs": [],
   "source": [
    "def create_dot_meshes(facecolor = (1.,.3,.2)):\n",
    "    meshes = []\n",
    "    for i in range(num_columns):\n",
    "        for k in range(K):\n",
    "            if g.get_segment(i*K+k) == 1: break # leave as soon as k is first outside point\n",
    "        x = int(center_x + col_vectors[i,0] * min_r_x + col_vectors[i,0] * (k-1)/float(K) * (max_r_x-min_r_x))\n",
    "        y = int(center_y + col_vectors[i,1] * min_r_y + col_vectors[i,1] * (k-1)/float(K) * (max_r_y-min_r_y))\n",
    "        z = int(center_z + col_vectors[i,2] * min_r_z + col_vectors[i,2] * (k-1)/float(K) * (max_r_z-min_r_z))\n",
    "        meshes.append( EllipsoidMesh(rs = norm_radii((1,1,.2),image.shape), pos = norm_coords((x,y,z),image.shape), facecolor = facecolor, alpha=.5) )\n",
    "    return meshes"
   ]
  },
  {
   "cell_type": "code",
   "execution_count": 11,
   "metadata": {
    "collapsed": false
   },
   "outputs": [
    {
     "name": "stdout",
     "output_type": "stream",
     "text": [
      "(-0.21875, -0.609375, 0.29032258064516125)\n"
     ]
    }
   ],
   "source": [
    "def norm_coords(cabs,pixelsizes):\n",
    "    cnorm = 2. * np.array(cabs[::-1], float) / np.array(pixelsizes) - 1.\n",
    "    return tuple(cnorm[::-1])\n",
    "\n",
    "def norm_radii(cabs,pixelsizes):\n",
    "    cnorm = 2. * np.array(cabs[::-1], float) / np.array(pixelsizes)\n",
    "    return tuple(cnorm[::-1])\n",
    "\n",
    "print norm_coords((200,100,20), image.shape)"
   ]
  },
  {
   "cell_type": "code",
   "execution_count": 12,
   "metadata": {
    "collapsed": false
   },
   "outputs": [
    {
     "name": "stdout",
     "output_type": "stream",
     "text": [
      "<spimagine.gui.mesh.Mesh object at 0x11b8cefd0>\n"
     ]
    }
   ],
   "source": [
    "from spimagine import EllipsoidMesh, Mesh\n",
    "def create_surface_mesh(center, g, facecolor=(1.,.3,.2)):\n",
    "#     from spimagine import Mesh\n",
    "#     mesh = Mesh(vertices=myverts, normals = mynormals, indices = myinds)\n",
    "#     w.glWidget.add_mesh(mesh)\n",
    "#     vertices und normals sind die Punkte/Normalen und haben shape = (n_points, 3),\n",
    "#     indices ist eine int array der laenge (3*n_triangles) mit den indizies der Triangles \n",
    "#     (d.h. indices = [0,1,2] baut ein Dreieck aus vertices[0], [1] und [2])\n",
    "    myverts = np.zeros((num_columns, 3))\n",
    "    mynormals = col_vectors\n",
    "    myinds = np.zeros(num_columns*3) # NEEDS IMPROVEMENT!!!\n",
    "    for i in range(num_columns):\n",
    "        for k in range(K):\n",
    "            if g.get_segment(i*K+k) == 1: break # leave as soon as k is first outside point\n",
    "        x = int(center[0] + col_vectors[i,0] * min_r_x + col_vectors[i,0] * (k-1)/float(K) * (max_r_x-min_r_x))\n",
    "        y = int(center[1] + col_vectors[i,1] * min_r_y + col_vectors[i,1] * (k-1)/float(K) * (max_r_y-min_r_y))\n",
    "        z = int(center[2] + col_vectors[i,2] * min_r_z + col_vectors[i,2] * (k-1)/float(K) * (max_r_z-min_r_z))\n",
    "        myverts[i,:] = norm_coords([x,y,z],image.shape)\n",
    "        myinds[3*i]   = i\n",
    "        hood = neighbors_of[i]\n",
    "        for j in range(len(hood)):\n",
    "            myinds[3*i+1] = neighbors_of[i][j]\n",
    "            myinds[3*i+2] = neighbors_of[i][(j+1)%len(hood)]\n",
    "    return Mesh(vertices=myverts, normals = mynormals, indices = myinds, facecolor=facecolor, alpha=.5)\n",
    "\n",
    "print create_surface_mesh(center, g)"
   ]
  },
  {
   "cell_type": "code",
   "execution_count": 13,
   "metadata": {
    "collapsed": false
   },
   "outputs": [
    {
     "ename": "TypeError",
     "evalue": "create_surface_mesh() takes at least 2 arguments (0 given)",
     "output_type": "error",
     "traceback": [
      "\u001b[0;31m---------------------------------------------------------------------------\u001b[0m",
      "\u001b[0;31mTypeError\u001b[0m                                 Traceback (most recent call last)",
      "\u001b[0;32m<ipython-input-13-e7fc0f76c11f>\u001b[0m in \u001b[0;36m<module>\u001b[0;34m()\u001b[0m\n\u001b[1;32m     41\u001b[0m     \u001b[0;32mreturn\u001b[0m \u001b[0mMesh\u001b[0m\u001b[0;34m(\u001b[0m\u001b[0mvertices\u001b[0m\u001b[0;34m=\u001b[0m\u001b[0mmyverts\u001b[0m\u001b[0;34m,\u001b[0m \u001b[0mnormals\u001b[0m \u001b[0;34m=\u001b[0m \u001b[0mmynormals\u001b[0m\u001b[0;34m,\u001b[0m \u001b[0mindices\u001b[0m \u001b[0;34m=\u001b[0m \u001b[0mmyinds\u001b[0m\u001b[0;34m,\u001b[0m \u001b[0mfacecolor\u001b[0m\u001b[0;34m=\u001b[0m\u001b[0mfacecolor\u001b[0m\u001b[0;34m)\u001b[0m\u001b[0;34m\u001b[0m\u001b[0m\n\u001b[1;32m     42\u001b[0m \u001b[0;34m\u001b[0m\u001b[0m\n\u001b[0;32m---> 43\u001b[0;31m \u001b[0;32mprint\u001b[0m \u001b[0mcreate_surface_mesh\u001b[0m\u001b[0;34m(\u001b[0m\u001b[0;34m)\u001b[0m\u001b[0;34m\u001b[0m\u001b[0m\n\u001b[0m",
      "\u001b[0;31mTypeError\u001b[0m: create_surface_mesh() takes at least 2 arguments (0 given)"
     ]
    }
   ],
   "source": [
    "from spimagine import EllipsoidMesh, Mesh\n",
    "def create_dot_pyramids(center, g, facecolor=(1.,.3,.2)):\n",
    "#     from spimagine import Mesh\n",
    "#     mesh = Mesh(vertices=myverts, normals = mynormals, indices = myinds)\n",
    "#     w.glWidget.add_mesh(mesh)\n",
    "#     vertices und normals sind die Punkte/Normalen und haben shape = (n_points, 3),\n",
    "#     indices ist eine int array der laenge (3*n_triangles) mit den indizies der Triangles \n",
    "#     (d.h. indices = [0,1,2] baut ein Dreieck aus vertices[0], [1] und [2])\n",
    "    myverts = np.zeros((num_columns*4, 3))\n",
    "    mynormals = np.zeros((num_columns*4, 3))\n",
    "    myinds = np.zeros(num_columns*12)\n",
    "    for i in range(num_columns):\n",
    "        for k in range(K):\n",
    "            if g.get_segment(i*K+k) == 1: break # leave as soon as k is first outside point\n",
    "        x = int(center[0] + col_vectors[i,0] * min_r_x + col_vectors[i,0] * (k-1)/float(K) * (max_r_x-min_r_x))\n",
    "        y = int(center[1] + col_vectors[i,1] * min_r_y + col_vectors[i,1] * (k-1)/float(K) * (max_r_y-min_r_y))\n",
    "        z = int(center[2] + col_vectors[i,2] * min_r_z + col_vectors[i,2] * (k-1)/float(K) * (max_r_z-min_r_z))\n",
    "        \n",
    "        mynormals[3*i,:]   = col_vectors[i]\n",
    "        mynormals[3*i+1,:] = col_vectors[i]\n",
    "        mynormals[3*i+2,:] = col_vectors[i]\n",
    "        mynormals[3*i+3,:] = col_vectors[i]\n",
    "        \n",
    "        myverts[3*i,:]   = norm_coords([x-.5,y+.5,z+.5],image.shape)\n",
    "        myverts[3*i+1,:] = norm_coords([x+.5,y+.5,z-.5],image.shape)\n",
    "        myverts[3*i+2,:] = norm_coords([x-.5,y-.5,z-.5],image.shape)\n",
    "        myverts[3*i+3,:] = norm_coords([x+.5,y-.5,z+.5],image.shape)\n",
    "        \n",
    "        myinds[3*i]   = 3*i\n",
    "        myinds[3*i+1] = 3*i+1\n",
    "        myinds[3*i+2] = 3*i+2\n",
    "        myinds[3*i+3] = 3*i\n",
    "        myinds[3*i+4] = 3*i+1\n",
    "        myinds[3*i+5] = 3*i+3\n",
    "        myinds[3*i+6] = 3*i+2\n",
    "        myinds[3*i+7] = 3*i+3\n",
    "        myinds[3*i+8] = 3*i\n",
    "        myinds[3*i+9] = 3*i+2\n",
    "        myinds[3*i+10]= 3*i+3\n",
    "        myinds[3*i+11]= 3*i+1\n",
    "    return Mesh(vertices=myverts, normals = mynormals, indices = myinds, facecolor=facecolor)\n",
    "\n",
    "print create_surface_mesh()"
   ]
  },
  {
   "cell_type": "code",
   "execution_count": 16,
   "metadata": {
    "collapsed": false
   },
   "outputs": [],
   "source": [
    "volwin = volshow(create_dot_annotatation_image(), stackUnits = [1.,1.,5.], raise_window=False)\n",
    "mesh_min = EllipsoidMesh(rs = norm_radii((3,3,.5),image.shape), pos = norm_coords(center,image.shape), facecolor = (1.,.3,.2), alpha=.5)\n",
    "volwin.glWidget.add_mesh(mesh_min)\n",
    "# mesh_min = EllipsoidMesh(rs = norm_radii(min_radii,image.shape), pos = norm_coords(center,image.shape), facecolor = (1.,.3,.2), alpha=.5)\n",
    "# volwin.glWidget.add_mesh(mesh_min)\n",
    "# mesh_max = EllipsoidMesh(rs = norm_radii(max_radii,image.shape), pos = norm_coords(center,image.shape), facecolor = (.2,1.,.3), alpha=.5)\n",
    "# volwin.glWidget.add_mesh(mesh_max)\n",
    "# volwin.glWidget.add_mesh( create_surface_mesh() )"
   ]
  },
  {
   "cell_type": "code",
   "execution_count": 17,
   "metadata": {
    "collapsed": true
   },
   "outputs": [],
   "source": [
    "volwin = volshow(image, stackUnits = [1.,1.,5.], raise_window=False)\n",
    "meshes = create_dot_meshes()\n",
    "for m in meshes:\n",
    "    volwin.glWidget.add_mesh(m)"
   ]
  },
  {
   "cell_type": "code",
   "execution_count": 30,
   "metadata": {
    "collapsed": false
   },
   "outputs": [],
   "source": [
    "volwin = volshow(image, stackUnits = [1.,1.,5.], raise_window=False)\n",
    "volwin.glWidget.add_mesh( create_dot_pyramids(facecolor=(.4,.4,1.)) )"
   ]
  },
  {
   "cell_type": "markdown",
   "metadata": {
    "collapsed": true
   },
   "source": [
    "# Create video frames "
   ]
  },
  {
   "cell_type": "code",
   "execution_count": 103,
   "metadata": {
    "collapsed": false
   },
   "outputs": [
    {
     "name": "stdout",
     "output_type": "stream",
     "text": [
      ". . . . . . . . . . . . . . . . . . . . . . . . . . . . . . . . . . . . . . . . . . done\n"
     ]
    }
   ],
   "source": [
    "frames = []\n",
    "f = range(100,431,10)\n",
    "for i, center_x in enumerate(f):\n",
    "    \n",
    "    center_y = 280\n",
    "    center_z = 26\n",
    "    center = ( center_x, center_y, center_z)\n",
    "\n",
    "    w, w_tilde = compute_weights( image, center, K, max_radii, col_vectors, min_radii=min_radii )\n",
    "    g,nodes = build_flow_network( num_columns, neighbors_of, K, num_neighbors, max_delta_k, w_tilde )\n",
    "    maxval = g.maxflow()\n",
    "    \n",
    "    frames.append( create_dot_annotatation_image() )\n",
    "    print '.',\n",
    "    \n",
    "f = range(280,200,-10)\n",
    "for i, center_y in enumerate(f):\n",
    "    \n",
    "    center_x = 430\n",
    "    center_z = 26\n",
    "    center = ( center_x, center_y, center_z)\n",
    "\n",
    "    w, w_tilde = compute_weights( image, center, K, max_radii, col_vectors, min_radii=min_radii )\n",
    "    g,nodes = build_flow_network( num_columns, neighbors_of, K, num_neighbors, max_delta_k, w_tilde )\n",
    "    maxval = g.maxflow()\n",
    "    \n",
    "    frames.append( create_dot_annotatation_image() )\n",
    "    print '.',\n",
    "\n",
    "print 'done'"
   ]
  },
  {
   "cell_type": "code",
   "execution_count": 83,
   "metadata": {
    "collapsed": false
   },
   "outputs": [
    {
     "name": "stdout",
     "output_type": "stream",
     "text": [
      "/Users/jug/Repositories/GIT/BobSeg/video\n"
     ]
    }
   ],
   "source": [
    "volwin = volshow(np.array(frames), stackUnits = [1.,1.,4.], raise_window=True)"
   ]
  },
  {
   "cell_type": "code",
   "execution_count": 99,
   "metadata": {
    "collapsed": true
   },
   "outputs": [],
   "source": [
    "imsave('video/center_sampling_maddox_spim_dots.tif', np.array(frames))"
   ]
  },
  {
   "cell_type": "markdown",
   "metadata": {},
   "source": [
    "# Multi-cell stuff "
   ]
  },
  {
   "cell_type": "code",
   "execution_count": 14,
   "metadata": {
    "collapsed": true
   },
   "outputs": [],
   "source": [
    "def segment_and_plot(center, col=(.4,1.,.4) ):\n",
    "    max_radii = ( max_r_x, max_r_y, max_r_z )\n",
    "    min_radii = ( min_r_x, min_r_y, min_r_z )\n",
    "    w, w_tilde = compute_weights( image, center, K, max_radii, col_vectors, min_radii=min_radii )\n",
    "    g,nodes = build_flow_network( num_columns, neighbors_of, K, num_neighbors, max_delta_k, w_tilde )\n",
    "    maxval = g.maxflow()\n",
    "    \n",
    "#     volwin.glWidget.add_mesh( create_dot_pyramids(center, g, facecolor=col) )\n",
    "    volwin.glWidget.add_mesh( create_surface_mesh(center, g, facecolor=col) )\n",
    "    mesh_center = EllipsoidMesh(rs=norm_radii((3,3,.5),image.shape), pos=norm_coords(center,image.shape), facecolor=col, alpha=.5)\n",
    "    volwin.glWidget.add_mesh(mesh_center)\n",
    "\n",
    "    return g,nodes,w,w_tilde"
   ]
  },
  {
   "cell_type": "code",
   "execution_count": 15,
   "metadata": {
    "collapsed": false
   },
   "outputs": [],
   "source": [
    "volwin = volshow(image, stackUnits = [1.,1.,5.], raise_window=False)\n",
    "\n",
    "green1 = (.7,1.,.3)\n",
    "green2 = (.3,1.,.7)\n",
    "\n",
    "orange = (.5,.3,.2)\n",
    "red = (.5,.2,.2)\n",
    "# orange = (.8,.6,.4)\n",
    "# red = (1.,.4,.4)\n",
    "\n",
    "# E cells\n",
    "# -------\n",
    "c = (center_x, center_y+50, center_z)\n",
    "col = green1\n",
    "g, nodes, w, w_tilde = segment_and_plot(c,col)\n",
    "\n",
    "c = (center_x, center_y, center_z)\n",
    "col = green2\n",
    "g, nodes, w, w_tilde = segment_and_plot(c,col)\n",
    "\n",
    "# Neighbors\n",
    "# ---------\n",
    "c = (center_x-20, center_y+90, center_z)\n",
    "col = red\n",
    "g, nodes, w, w_tilde = segment_and_plot(c,col)\n",
    "\n",
    "c = (center_x+40, center_y+110, center_z)\n",
    "col = orange\n",
    "g, nodes, w, w_tilde = segment_and_plot(c,col)\n",
    "\n",
    "c = (center_x+90, center_y+90, center_z)\n",
    "col = red\n",
    "g, nodes, w, w_tilde = segment_and_plot(c,col)\n",
    "\n",
    "c = (center_x+80, center_y+15, center_z)\n",
    "col = orange\n",
    "g, nodes, w, w_tilde = segment_and_plot(c,col)\n",
    "\n",
    "c = (center_x+35, center_y-35, center_z)\n",
    "col = red\n",
    "g, nodes, w, w_tilde = segment_and_plot(c,col)\n",
    "\n",
    "c = (center_x, center_y-70, center_z)\n",
    "col = orange\n",
    "g, nodes, w, w_tilde = segment_and_plot(c,col)\n",
    "\n",
    "# c = (center_x, center_y-180, center_z)\n",
    "# col = (1.,.4,.4)\n",
    "# g, nodes, w, w_tilde = segment_and_plot(c,col)"
   ]
  },
  {
   "cell_type": "code",
   "execution_count": null,
   "metadata": {
    "collapsed": true
   },
   "outputs": [],
   "source": []
  }
 ],
 "metadata": {
  "kernelspec": {
   "display_name": "Python 2",
   "language": "python",
   "name": "python2"
  },
  "language_info": {
   "codemirror_mode": {
    "name": "ipython",
    "version": 2
   },
   "file_extension": ".py",
   "mimetype": "text/x-python",
   "name": "python",
   "nbconvert_exporter": "python",
   "pygments_lexer": "ipython2",
   "version": "2.7.6"
  }
 },
 "nbformat": 4,
 "nbformat_minor": 0
}
