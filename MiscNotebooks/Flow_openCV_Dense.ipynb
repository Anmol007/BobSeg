{
 "cells": [
  {
   "cell_type": "code",
   "execution_count": 3,
   "metadata": {
    "collapsed": false
   },
   "outputs": [],
   "source": [
    "%matplotlib inline\n",
    "import cv2\n",
    "import numpy as np\n",
    "\n",
    "cap = cv2.VideoCapture('/Users/jug/Repositories/GIT/BobSeg/MiscNotebooks/768x576.avi')\n",
    "\n",
    "ret, frame1 = cap.read()\n",
    "prvs = cv2.cvtColor(frame1,cv2.COLOR_BGR2GRAY)\n",
    "hsv = np.zeros_like(frame1)\n",
    "hsv[...,1] = 255\n",
    "\n",
    "while(1):\n",
    "    ret, frame2 = cap.read()\n",
    "    n = cv2.cvtColor(frame2,cv2.COLOR_BGR2GRAY)\n",
    "\n",
    "    # flow = cv2.calcOpticalFlowFarneback(prvs, n, 1, 0.5, 3, 15, 3, 5, 1.2, 0)\n",
    "    flow = cv2.calcOpticalFlowFarneback(prvs, n,0.5,1,3,15,3,5,1)\n",
    "\n",
    "    mag, ang = cv2.cartToPolar(flow[...,0], flow[...,1])\n",
    "    hsv[...,0] = ang*180/np.pi/2\n",
    "    hsv[...,2] = cv2.normalize(mag,None,0,255,cv2.NORM_MINMAX)\n",
    "    rgb = cv2.cvtColor(hsv,cv2.COLOR_HSV2BGR)\n",
    "\n",
    "    cv2.imshow('frame2',rgb)\n",
    "    k = cv2.waitKey(30) & 0xff\n",
    "    if k == 27:\n",
    "        break\n",
    "    elif k == ord('s'):\n",
    "        cv2.imwrite('opticalfb.png',frame2)\n",
    "        cv2.imwrite('opticalhsv.png',rgb)\n",
    "    prvs = n\n",
    "\n",
    "cap.release()\n",
    "cv2.destroyAllWindows()"
   ]
  },
  {
   "cell_type": "code",
   "execution_count": 5,
   "metadata": {
    "collapsed": true
   },
   "outputs": [],
   "source": [
    "cap = cv2.VideoCapture('/Users/jug/Repositories/GIT/BobSeg/MiscNotebooks/768x576.avi')\n",
    "ret, frame1 = cap.read()"
   ]
  },
  {
   "cell_type": "code",
   "execution_count": 7,
   "metadata": {
    "collapsed": false
   },
   "outputs": [
    {
     "data": {
      "text/plain": [
       "array([[[107, 145, 180],\n",
       "        [107, 145, 180],\n",
       "        [107, 145, 180],\n",
       "        ..., \n",
       "        [ 56,  81, 108],\n",
       "        [ 77,  87, 111],\n",
       "        [ 42,  52,  76]],\n",
       "\n",
       "       [[109, 147, 182],\n",
       "        [107, 145, 180],\n",
       "        [107, 145, 180],\n",
       "        ..., \n",
       "        [ 56,  81, 108],\n",
       "        [ 75,  85, 109],\n",
       "        [ 41,  51,  75]],\n",
       "\n",
       "       [[109, 147, 182],\n",
       "        [107, 145, 180],\n",
       "        [107, 145, 180],\n",
       "        ..., \n",
       "        [ 56,  80, 110],\n",
       "        [ 72,  83, 104],\n",
       "        [ 42,  53,  74]],\n",
       "\n",
       "       ..., \n",
       "       [[  0,  37,  22],\n",
       "        [  0,  34,  19],\n",
       "        [  0,  34,  19],\n",
       "        ..., \n",
       "        [ 10,  73,  60],\n",
       "        [ 11,  74,  61],\n",
       "        [ 10,  73,  60]],\n",
       "\n",
       "       [[  0,  36,  21],\n",
       "        [  0,  34,  19],\n",
       "        [  0,  36,  21],\n",
       "        ..., \n",
       "        [  9,  72,  59],\n",
       "        [ 10,  73,  60],\n",
       "        [ 10,  73,  60]],\n",
       "\n",
       "       [[  0,  33,  18],\n",
       "        [  0,  34,  19],\n",
       "        [  0,  38,  23],\n",
       "        ..., \n",
       "        [ 10,  73,  60],\n",
       "        [ 11,  74,  61],\n",
       "        [ 12,  75,  62]]], dtype=uint8)"
      ]
     },
     "execution_count": 7,
     "metadata": {},
     "output_type": "execute_result"
    }
   ],
   "source": [
    "frame1"
   ]
  },
  {
   "cell_type": "code",
   "execution_count": null,
   "metadata": {
    "collapsed": true
   },
   "outputs": [],
   "source": []
  }
 ],
 "metadata": {
  "kernelspec": {
   "display_name": "Python 2",
   "language": "python",
   "name": "python2"
  },
  "language_info": {
   "codemirror_mode": {
    "name": "ipython",
    "version": 2
   },
   "file_extension": ".py",
   "mimetype": "text/x-python",
   "name": "python",
   "nbconvert_exporter": "python",
   "pygments_lexer": "ipython2",
   "version": "2.7.6"
  }
 },
 "nbformat": 4,
 "nbformat_minor": 0
}
