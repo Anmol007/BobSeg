{
 "cells": [
  {
   "cell_type": "code",
   "execution_count": 1,
   "metadata": {
    "collapsed": false
   },
   "outputs": [
    {
     "name": "stdout",
     "output_type": "stream",
     "text": [
      "<pyopencl.Device 'HD Graphics 4000' on 'Apple' at 0x1024400>\n"
     ]
    },
    {
     "name": "stderr",
     "output_type": "stream",
     "text": [
      "/Users/jug/Library/Enthought/Canopy_64bit/User/lib/python2.7/site-packages/pyopencl/__init__.py:207: CompilerWarning: Non-empty compiler output encountered. Set the environment variable PYOPENCL_COMPILER_OUTPUT=1 to see more.\n",
      "  \"to see more.\", CompilerWarning)\n"
     ]
    },
    {
     "name": "stdout",
     "output_type": "stream",
     "text": [
      "could not open /Users/jug/.spimagine\n",
      "<pyopencl.Device 'HD Graphics 4000' on 'Apple' at 0x1024400>\n"
     ]
    }
   ],
   "source": [
    "from mpl_toolkits.mplot3d import Axes3D\n",
    "import matplotlib.pyplot as plt\n",
    "import pylab as pl\n",
    "\n",
    "import os\n",
    "import sys\n",
    "\n",
    "import numpy as np\n",
    "from scipy import ndimage as ni\n",
    "import maxflow\n",
    "\n",
    "from tifffile import imread, imsave\n",
    "import cPickle as pickle\n",
    "\n",
    "from skimage.filters import gaussian_filter\n",
    "\n",
    "from spimagine import volshow\n",
    "\n",
    "%reload_ext autoreload\n",
    "%autoreload 2\n",
    "\n",
    "%matplotlib qt\n",
    "\n",
    "# %matplotlib inline\n",
    "# %pylab inline\n",
    "# pylab.rcParams['figure.figsize'] = (5, 5)"
   ]
  },
  {
   "cell_type": "markdown",
   "metadata": {},
   "source": [
    "### Loading image to be segmented"
   ]
  },
  {
   "cell_type": "code",
   "execution_count": 6,
   "metadata": {
    "collapsed": false
   },
   "outputs": [
    {
     "name": "stdout",
     "output_type": "stream",
     "text": [
      "Image dimensions:  (41, 457, 596)\n",
      "Image min/max:     185 262\n"
     ]
    }
   ],
   "source": [
    "filename = '/Volumes/FastData/ProjectGoldstein/Maddox_LITE/mneongreen_membrane_488_90percentpower_nobinning_60xWI_5msexposure_072916_single_timepoint_crop.tif'\n",
    "\n",
    "sigma = [1,3,3]\n",
    "image = imread(filename)\n",
    "image_smooth = gaussian_filter(image,sigma)\n",
    "print 'Image dimensions: ', image.shape\n",
    "print 'Image min/max:    ', np.min(image), np.max(image)"
   ]
  },
  {
   "cell_type": "markdown",
   "metadata": {},
   "source": [
    "### Load sampled unit sphere and set parameters"
   ]
  },
  {
   "cell_type": "code",
   "execution_count": 90,
   "metadata": {
    "collapsed": false
   },
   "outputs": [],
   "source": [
    "plt.rcParams['figure.figsize'] = (5, 5)\n",
    "\n",
    "# load pickeled unit sphere sampling\n",
    "with open('sphere_sampling.pkl','r') as f:\n",
    "    dictSphereData = pickle.load(f)\n",
    "    \n",
    "# sampling parameters\n",
    "num_columns = dictSphereData['n']\n",
    "col_vectors = dictSphereData['points']\n",
    "neighbors = dictSphereData['neighbors']\n",
    "neighbors_of = dictSphereData['neighbors_of']\n",
    "num_neighbors = len(neighbors)/num_columns\n",
    "K = 30       # as in Wu & Chen 2002\n",
    "\n",
    "# net surface related parameters\n",
    "max_delta_k = 4\n",
    "\n",
    "# positioning of net in image\n",
    "\n",
    "# A SWEET SET OF PARAMS\n",
    "# center_x = 160\n",
    "# center_y = 190\n",
    "# center_z = 7\n",
    "# max_r_x = 40\n",
    "# max_r_y = 40\n",
    "# max_r_z = 12\n",
    "\n",
    "center_x = 210\n",
    "center_y = 300\n",
    "center_z = 26\n",
    "max_r_x = image.shape[2] / 4\n",
    "max_r_y = image.shape[1] / 4\n",
    "max_r_z = image.shape[0] / 2\n",
    "min_r_x = 20\n",
    "min_r_y = 20\n",
    "min_r_z = 3"
   ]
  },
  {
   "cell_type": "code",
   "execution_count": 91,
   "metadata": {
    "collapsed": false
   },
   "outputs": [],
   "source": [
    "volwin = volshow(image, stackUnits = [1.,1.,4.], raise_window=False)\n",
    "# volwin = volshow(image_smooth, stackUnits = [1.,1.,4.], raise_window=False)"
   ]
  },
  {
   "cell_type": "markdown",
   "metadata": {},
   "source": [
    "# Building Graph"
   ]
  },
  {
   "cell_type": "markdown",
   "metadata": {},
   "source": [
    "### Function definitions"
   ]
  },
  {
   "cell_type": "code",
   "execution_count": 92,
   "metadata": {
    "collapsed": false
   },
   "outputs": [],
   "source": [
    "from myfunctions import *"
   ]
  },
  {
   "cell_type": "markdown",
   "metadata": {},
   "source": [
    "### Compute weights *w*"
   ]
  },
  {
   "cell_type": "code",
   "execution_count": 93,
   "metadata": {
    "collapsed": false
   },
   "outputs": [],
   "source": [
    "center = ( center_x, center_y, center_z)\n",
    "max_radii = ( max_r_x, max_r_y, max_r_z )\n",
    "min_radii = ( min_r_x, min_r_y, min_r_z )\n",
    "w, w_tilde = compute_weights( image, center, K, max_radii, col_vectors, min_radii=min_radii )"
   ]
  },
  {
   "cell_type": "markdown",
   "metadata": {},
   "source": [
    "### Build and solve flow network"
   ]
  },
  {
   "cell_type": "code",
   "execution_count": 94,
   "metadata": {
    "collapsed": false
   },
   "outputs": [],
   "source": [
    "g,nodes = build_flow_network( num_columns, neighbors_of, K, num_neighbors, max_delta_k, w_tilde )\n",
    "maxval = g.maxflow()"
   ]
  },
  {
   "cell_type": "markdown",
   "metadata": {},
   "source": [
    "### Visualize results"
   ]
  },
  {
   "cell_type": "code",
   "execution_count": 95,
   "metadata": {
    "collapsed": false
   },
   "outputs": [
    {
     "name": "stdout",
     "output_type": "stream",
     "text": [
      "Size of s and t component:  4921 10439\n"
     ]
    }
   ],
   "source": [
    "size_s_comp = 0\n",
    "size_t_comp = 0\n",
    "for n in nodes:\n",
    "    seg = g.get_segment(n)\n",
    "    if seg == 0:\n",
    "        size_s_comp += 1\n",
    "    else:\n",
    "        size_t_comp += 1\n",
    "    #print \"Segment of the node \",n,\":\", seg\n",
    "print \"Size of s and t component: \", size_s_comp, size_t_comp"
   ]
  },
  {
   "cell_type": "code",
   "execution_count": 105,
   "metadata": {
    "collapsed": false
   },
   "outputs": [],
   "source": [
    "def create_dot_annotatation_image():\n",
    "    # imgout = np.zeros(image.shape)\n",
    "    # valtoplace = 1\n",
    "    imgout = np.copy(image) #np.zeros_like(image)\n",
    "    valtoplace = 1.0*np.max(image)\n",
    "    for i in range(num_columns):\n",
    "        for k in range(K):\n",
    "            x = int(center_x + col_vectors[i,0] * min_r_x + col_vectors[i,0] * k/float(K) * (max_r_x-min_r_x))\n",
    "            y = int(center_y + col_vectors[i,1] * min_r_y + col_vectors[i,1] * k/float(K) * (max_r_y-min_r_y))\n",
    "            z = int(center_z + col_vectors[i,2] * min_r_z + col_vectors[i,2] * k/float(K) * (max_r_z-min_r_z))\n",
    "            seg = g.get_segment(i*K+k)\n",
    "            if seg == 0:\n",
    "                if x>=0 and y>=0 and z>=0 and \\\n",
    "                   x<image.shape[2] and y<image.shape[1] and z<image.shape[0]:\n",
    "                    imgout[z,y,x] = valtoplace\n",
    "    return imgout\n",
    "\n",
    "# IDEE: draw line to all neighbors (at height k) along 3d bresenham"
   ]
  },
  {
   "cell_type": "code",
   "execution_count": 106,
   "metadata": {
    "collapsed": false
   },
   "outputs": [],
   "source": [
    "volwin = volshow(create_dot_annotatation_image(), stackUnits = [1.,1.,4.], raise_window=False)"
   ]
  },
  {
   "cell_type": "markdown",
   "metadata": {
    "collapsed": true
   },
   "source": [
    "# Create video frames "
   ]
  },
  {
   "cell_type": "code",
   "execution_count": 103,
   "metadata": {
    "collapsed": false
   },
   "outputs": [
    {
     "name": "stdout",
     "output_type": "stream",
     "text": [
      ". . . . . . . . . . . . . . . . . . . . . . . . . . . . . . . . . . . . . . . . . . done\n"
     ]
    }
   ],
   "source": [
    "frames = []\n",
    "f = range(100,431,10)\n",
    "for i, center_x in enumerate(f):\n",
    "    \n",
    "    center_y = 280\n",
    "    center_z = 26\n",
    "    center = ( center_x, center_y, center_z)\n",
    "\n",
    "    w, w_tilde = compute_weights( image, center, K, max_radii, col_vectors, min_radii=min_radii )\n",
    "    g,nodes = build_flow_network( num_columns, neighbors_of, K, num_neighbors, max_delta_k, w_tilde )\n",
    "    maxval = g.maxflow()\n",
    "    \n",
    "    frames.append( create_dot_annotatation_image() )\n",
    "    print '.',\n",
    "    \n",
    "f = range(280,200,-10)\n",
    "for i, center_y in enumerate(f):\n",
    "    \n",
    "    center_x = 430\n",
    "    center_z = 26\n",
    "    center = ( center_x, center_y, center_z)\n",
    "\n",
    "    w, w_tilde = compute_weights( image, center, K, max_radii, col_vectors, min_radii=min_radii )\n",
    "    g,nodes = build_flow_network( num_columns, neighbors_of, K, num_neighbors, max_delta_k, w_tilde )\n",
    "    maxval = g.maxflow()\n",
    "    \n",
    "    frames.append( create_dot_annotatation_image() )\n",
    "    print '.',\n",
    "\n",
    "print 'done'"
   ]
  },
  {
   "cell_type": "code",
   "execution_count": 83,
   "metadata": {
    "collapsed": false
   },
   "outputs": [
    {
     "name": "stdout",
     "output_type": "stream",
     "text": [
      "/Users/jug/Repositories/GIT/BobSeg/video\n"
     ]
    }
   ],
   "source": [
    "volwin = volshow(np.array(frames), stackUnits = [1.,1.,4.], raise_window=True)"
   ]
  },
  {
   "cell_type": "code",
   "execution_count": 99,
   "metadata": {
    "collapsed": true
   },
   "outputs": [],
   "source": [
    "imsave('video/center_sampling_maddox_spim_dots.tif', np.array(frames))"
   ]
  },
  {
   "cell_type": "code",
   "execution_count": null,
   "metadata": {
    "collapsed": true
   },
   "outputs": [],
   "source": []
  }
 ],
 "metadata": {
  "kernelspec": {
   "display_name": "Python 2",
   "language": "python",
   "name": "python2"
  },
  "language_info": {
   "codemirror_mode": {
    "name": "ipython",
    "version": 2
   },
   "file_extension": ".py",
   "mimetype": "text/x-python",
   "name": "python",
   "nbconvert_exporter": "python",
   "pygments_lexer": "ipython2",
   "version": "2.7.6"
  }
 },
 "nbformat": 4,
 "nbformat_minor": 0
}
