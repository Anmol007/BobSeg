{
 "cells": [
  {
   "cell_type": "code",
   "execution_count": 1,
   "metadata": {
    "collapsed": false
   },
   "outputs": [
    {
     "name": "stdout",
     "output_type": "stream",
     "text": [
      "<pyopencl.Device 'HD Graphics 4000' on 'Apple' at 0x1024400>\n"
     ]
    },
    {
     "name": "stderr",
     "output_type": "stream",
     "text": [
      "/Users/jug/Library/Enthought/Canopy_64bit/User/lib/python2.7/site-packages/pyopencl/__init__.py:207: CompilerWarning: Non-empty compiler output encountered. Set the environment variable PYOPENCL_COMPILER_OUTPUT=1 to see more.\n",
      "  \"to see more.\", CompilerWarning)\n"
     ]
    },
    {
     "name": "stdout",
     "output_type": "stream",
     "text": [
      "could not open /Users/jug/.spimagine\n",
      "<pyopencl.Device 'HD Graphics 4000' on 'Apple' at 0x1024400>\n"
     ]
    }
   ],
   "source": [
    "%matplotlib qt\n",
    "\n",
    "import time\n",
    "import copy\n",
    "import numpy as np\n",
    "from skimage.filters import gaussian_filter\n",
    "\n",
    "from tifffile import imread, imsave\n",
    "import cPickle as pickle\n",
    "\n",
    "import matplotlib.pyplot as plt\n",
    "\n",
    "from spimagine import volfig, volshow\n",
    "from spimagine import EllipsoidMesh, Mesh\n",
    "\n",
    "%reload_ext autoreload\n",
    "%autoreload 2\n",
    "\n",
    "from netsurface3d import NetSurf3d\n",
    "from data4d import Data4d"
   ]
  },
  {
   "cell_type": "markdown",
   "metadata": {},
   "source": [
    "# Load time-lapse data..."
   ]
  },
  {
   "cell_type": "code",
   "execution_count": 2,
   "metadata": {
    "collapsed": true
   },
   "outputs": [],
   "source": [
    "filenames = ['/Users/jug/Dropbox/ProjectGoldstein/2016-09-22_fromMark/092216_PH-mCherry-02_w2SD mCherry_t1.TIF',\n",
    "             '/Users/jug/Dropbox/ProjectGoldstein/2016-09-22_fromMark/092216_PH-mCherry-02_w2SD mCherry_t2.TIF',\n",
    "             '/Users/jug/Dropbox/ProjectGoldstein/2016-09-22_fromMark/092216_PH-mCherry-02_w2SD mCherry_t3.TIF',\n",
    "             '/Users/jug/Dropbox/ProjectGoldstein/2016-09-22_fromMark/092216_PH-mCherry-02_w2SD mCherry_t4.TIF',\n",
    "             '/Users/jug/Dropbox/ProjectGoldstein/2016-09-22_fromMark/092216_PH-mCherry-02_w2SD mCherry_t5.TIF',\n",
    "             '/Users/jug/Dropbox/ProjectGoldstein/2016-09-22_fromMark/092216_PH-mCherry-02_w2SD mCherry_t6.TIF',\n",
    "             '/Users/jug/Dropbox/ProjectGoldstein/2016-09-22_fromMark/092216_PH-mCherry-02_w2SD mCherry_t7.TIF',\n",
    "             '/Users/jug/Dropbox/ProjectGoldstein/2016-09-22_fromMark/092216_PH-mCherry-02_w2SD mCherry_t8.TIF',\n",
    "             '/Users/jug/Dropbox/ProjectGoldstein/2016-09-22_fromMark/092216_PH-mCherry-02_w2SD mCherry_t9.TIF',\n",
    "             '/Users/jug/Dropbox/ProjectGoldstein/2016-09-22_fromMark/092216_PH-mCherry-02_w2SD mCherry_t10.TIF',\n",
    "             '/Users/jug/Dropbox/ProjectGoldstein/2016-09-22_fromMark/092216_PH-mCherry-02_w2SD mCherry_t11.TIF',\n",
    "             '/Users/jug/Dropbox/ProjectGoldstein/2016-09-22_fromMark/092216_PH-mCherry-02_w2SD mCherry_t12.TIF']"
   ]
  },
  {
   "cell_type": "code",
   "execution_count": 3,
   "metadata": {
    "collapsed": false
   },
   "outputs": [
    {
     "name": "stdout",
     "output_type": "stream",
     "text": [
      "Dimensions of frame 0 :  (31, 512, 512)\n",
      "Dimensions of frame 1 :  (31, 512, 512)\n",
      "Dimensions of frame 2 :  (31, 512, 512)\n",
      "Dimensions of frame 3 :  (31, 512, 512)\n",
      "Dimensions of frame 4 :  (31, 512, 512)\n",
      "Dimensions of frame 5 :  (31, 512, 512)\n",
      "Dimensions of frame 6 :  (31, 512, 512)\n",
      "Dimensions of frame 7 :  (31, 512, 512)\n",
      "Dimensions of frame 8 :  (31, 512, 512)\n",
      "Dimensions of frame 9 :  (31, 512, 512)\n",
      "Dimensions of frame 10 :  (31, 512, 512)\n",
      "Dimensions of frame 11 :  (31, 512, 512)\n"
     ]
    }
   ],
   "source": [
    "data = Data4d( filenames, pixelsize=(1.,1.,5.), silent=False )\n",
    "data.set_seg_params(K=30,max_delta_k=4)\n",
    "objects = []\n",
    "ecells = []"
   ]
  },
  {
   "cell_type": "markdown",
   "metadata": {},
   "source": [
    "Min radius and max radius at which to look for cells (around center points (seed points))"
   ]
  },
  {
   "cell_type": "code",
   "execution_count": 4,
   "metadata": {
    "collapsed": false
   },
   "outputs": [],
   "source": [
    "max_rs = (data.images[0].shape[2] / 8,\n",
    "          data.images[0].shape[1] / 8,\n",
    "          data.images[0].shape[0] / 2)\n",
    "\n",
    "min_rs = (5,5,1)"
   ]
  },
  {
   "cell_type": "markdown",
   "metadata": {},
   "source": [
    "## adding E cells"
   ]
  },
  {
   "cell_type": "code",
   "execution_count": 5,
   "metadata": {
    "collapsed": false
   },
   "outputs": [],
   "source": [
    "Ea = data.init_object(\"Ea\")\n",
    "objects.append(Ea)\n",
    "ecells.append(Ea)\n",
    "\n",
    "Ep = data.init_object(\"Ep\")\n",
    "objects.append(Ep)\n",
    "ecells.append(Ep)"
   ]
  },
  {
   "cell_type": "code",
   "execution_count": 6,
   "metadata": {
    "collapsed": false
   },
   "outputs": [
    {
     "name": "stdout",
     "output_type": "stream",
     "text": [
      "Added appearance for \"Ea\" in frame 0 with seed coordinates [ 110.  300.   12.]\n",
      "      Optimum energy:  95253.0\n",
      "      Nodes in/out:  7349 8011\n",
      "Added appearance for \"Ea\" in frame 1 with seed coordinates [ 110.  300.   12.]\n",
      "      Optimum energy:  93961.0\n",
      "      Nodes in/out:  7543 7817\n",
      "    Updated center to [110 301  13]\n",
      "Added appearance for \"Ea\" in frame 2 with seed coordinates [ 110.  301.   13.]\n",
      "      Optimum energy:  82339.0\n",
      "      Nodes in/out:  8052 7308\n",
      "    Updated center to [111 301  13]\n",
      "Added appearance for \"Ea\" in frame 3 with seed coordinates [ 111.  301.   13.]\n",
      "      Optimum energy:  79644.0\n",
      "      Nodes in/out:  8384 6976\n",
      "    Updated center to [112 302  13]\n",
      "Added appearance for \"Ea\" in frame 4 with seed coordinates [ 112.  302.   13.]\n",
      "      Optimum energy:  77683.0\n",
      "      Nodes in/out:  8404 6956\n",
      "    Updated center to [114 302  13]\n",
      "Added appearance for \"Ea\" in frame 5 with seed coordinates [ 114.  302.   13.]\n",
      "      Optimum energy:  77008.0\n",
      "      Nodes in/out:  8282 7078\n",
      "    Updated center to [115 302  13]\n",
      "Added appearance for \"Ea\" in frame 6 with seed coordinates [ 115.  302.   13.]\n",
      "      Optimum energy:  76618.0\n",
      "      Nodes in/out:  7804 7556\n",
      "    Updated center to [117 303  14]\n",
      "Added appearance for \"Ea\" in frame 7 with seed coordinates [ 117.  303.   14.]\n",
      "      Optimum energy:  75576.0\n",
      "      Nodes in/out:  8167 7193\n",
      "    Updated center to [118 303  14]\n",
      "Added appearance for \"Ea\" in frame 8 with seed coordinates [ 118.  303.   14.]\n",
      "      Optimum energy:  76530.0\n",
      "      Nodes in/out:  8337 7023\n",
      "    Updated center to [118 302  14]\n",
      "Added appearance for \"Ea\" in frame 9 with seed coordinates [ 118.  302.   14.]\n",
      "      Optimum energy:  76641.0\n",
      "      Nodes in/out:  8000 7360\n",
      "    Updated center to [118 300  15]\n",
      "Added appearance for \"Ea\" in frame 10 with seed coordinates [ 118.  300.   15.]\n",
      "      Optimum energy:  77414.0\n",
      "      Nodes in/out:  9829 5531\n",
      "    Updated center to [116 296  15]\n",
      "Added appearance for \"Ea\" in frame 11 with seed coordinates [ 116.  296.   15.]\n",
      "      Optimum energy:  79295.0\n",
      "      Nodes in/out:  6885 8475\n",
      "    Updated center to [110 296  14]\n"
     ]
    }
   ],
   "source": [
    "# data.add_object_at( Ea, min_rs, max_rs, frame=0, seed=(110,300,12), frame_to=11, seed_to=(105,310,16), segment_it=True )\n",
    "data.add_object_at( Ea, min_rs, max_rs, frame=0, seed=(110,300,12), segment_it=True )\n",
    "data.track(Ea, seed_frame=0, target_frames=range(1,len(data.images)), recenter_iterations=1)"
   ]
  },
  {
   "cell_type": "code",
   "execution_count": 7,
   "metadata": {
    "collapsed": false,
    "scrolled": true
   },
   "outputs": [
    {
     "name": "stdout",
     "output_type": "stream",
     "text": [
      "Added appearance for \"Ep\" in frame 0 with seed coordinates [ 110.  350.   12.]\n",
      "      Optimum energy:  87730.0\n",
      "      Nodes in/out:  7060 8300\n",
      "Added appearance for \"Ep\" in frame 1 with seed coordinates [ 112.  351.   12.]\n",
      "      Optimum energy:  85070.0\n",
      "      Nodes in/out:  7123 8237\n",
      "Added appearance for \"Ep\" in frame 2 with seed coordinates [ 115.  352.   13.]\n",
      "      Optimum energy:  83739.0\n",
      "      Nodes in/out:  7540 7820\n",
      "Added appearance for \"Ep\" in frame 3 with seed coordinates [ 118.  352.   13.]\n",
      "      Optimum energy:  84401.0\n",
      "      Nodes in/out:  7321 8039\n",
      "Added appearance for \"Ep\" in frame 4 with seed coordinates [ 120.  353.   13.]\n",
      "      Optimum energy:  81773.0\n",
      "      Nodes in/out:  7064 8296\n",
      "Added appearance for \"Ep\" in frame 5 with seed coordinates [ 122.  354.   14.]\n",
      "      Optimum energy:  77667.0\n",
      "      Nodes in/out:  7152 8208\n",
      "Added appearance for \"Ep\" in frame 6 with seed coordinates [ 125.  355.   14.]\n",
      "      Optimum energy:  77966.0\n",
      "      Nodes in/out:  6948 8412\n",
      "Added appearance for \"Ep\" in frame 7 with seed coordinates [ 128.  356.   14.]\n",
      "      Optimum energy:  76400.0\n",
      "      Nodes in/out:  6888 8472\n",
      "Added appearance for \"Ep\" in frame 8 with seed coordinates [ 130.  357.   15.]\n",
      "      Optimum energy:  73514.0\n",
      "      Nodes in/out:  7570 7790\n",
      "Added appearance for \"Ep\" in frame 9 with seed coordinates [ 132.  358.   15.]\n",
      "      Optimum energy:  73070.0\n",
      "      Nodes in/out:  7895 7465\n",
      "Added appearance for \"Ep\" in frame 10 with seed coordinates [ 135.  358.   15.]\n",
      "      Optimum energy:  72557.0\n",
      "      Nodes in/out:  7793 7567\n",
      "Added appearance for \"Ep\" in frame 11 with seed coordinates [ 138.  359.   16.]\n",
      "      Optimum energy:  73558.0\n",
      "      Nodes in/out:  8091 7269\n"
     ]
    }
   ],
   "source": [
    "data.add_object_at( Ep, min_rs, max_rs, frame=0, seed=(110,350,12), frame_to=11, seed_to=(140,360,16), segment_it=True )\n",
    "# data.add_object_at( Ep, min_rs, max_rs, frame=0, seed=(110,350,12), segment_it=True )\n",
    "# data.track(Ep, seed_frame=0, target_frames=range(1,len(data.images)), recenter_iterations=1)"
   ]
  },
  {
   "cell_type": "markdown",
   "metadata": {},
   "source": [
    "## adding direct neighbors"
   ]
  },
  {
   "cell_type": "code",
   "execution_count": null,
   "metadata": {
    "collapsed": false
   },
   "outputs": [],
   "source": [
    "neighbors = []\n",
    "for i in range(12):\n",
    "    n = data.init_object(\"n\"+str(i))\n",
    "    objects.append(n)\n",
    "    neighbors.append(n)"
   ]
  },
  {
   "cell_type": "code",
   "execution_count": null,
   "metadata": {
    "collapsed": false,
    "scrolled": true
   },
   "outputs": [],
   "source": [
    "nseeds = [( 90,390,12),\n",
    "          (150,410,12),\n",
    "          (200,390,12),\n",
    "          (190,315,12),\n",
    "          (145,265,12),\n",
    "          (110,230,12),\n",
    "          ( 40,255,12),\n",
    "          ( 45,300,18),\n",
    "          ( 67,355,18),\n",
    "          (110,275,24),\n",
    "          (130,315,24),\n",
    "          (125,360,24)]\n",
    "for i in range(len(nseeds)):\n",
    "    data.add_object_at( neighbors[i], min_rs, max_rs, frame=0, seed=nseeds[i], segment_it=True )\n",
    "    data.track(neighbors[i], seed_frame=0, target_frames=range(1,len(data.images)), recenter_iterations=1)"
   ]
  },
  {
   "cell_type": "markdown",
   "metadata": {},
   "source": [
    "## adding others"
   ]
  },
  {
   "cell_type": "code",
   "execution_count": null,
   "metadata": {
    "collapsed": true
   },
   "outputs": [],
   "source": [
    "others = []\n",
    "for i in range(7):\n",
    "    o = data.init_object(\"o\"+str(i))\n",
    "    objects.append(o)\n",
    "    others.append(o)"
   ]
  },
  {
   "cell_type": "code",
   "execution_count": null,
   "metadata": {
    "collapsed": false,
    "scrolled": true
   },
   "outputs": [],
   "source": [
    "oseeds = [( 70,205,12),\n",
    "          (145,170,12),\n",
    "          ( 50,160,12),\n",
    "          (105,140,12),\n",
    "          (190,220,12),\n",
    "          (200,265,12),\n",
    "          (220,335,20)]\n",
    "for i in range(len(oseeds)):\n",
    "    data.add_object_at( others[i], min_rs, max_rs, frame=0, seed=oseeds[i], segment_it=True )\n",
    "    data.track(others[i], seed_frame=0, target_frames=range(1,len(data.images)), recenter_iterations=1)"
   ]
  },
  {
   "cell_type": "markdown",
   "metadata": {},
   "source": [
    "# Save / Load"
   ]
  },
  {
   "cell_type": "code",
   "execution_count": null,
   "metadata": {
    "collapsed": false
   },
   "outputs": [],
   "source": [
    "data.save('/Users/jug/Dropbox/ProjectGoldstein/2016-09-22_fromMark/092216_PH-mCherry-02_w2SD mCherry.pkl')"
   ]
  },
  {
   "cell_type": "code",
   "execution_count": null,
   "metadata": {
    "collapsed": false
   },
   "outputs": [],
   "source": [
    "data = Data4d( [], silent=False )\n",
    "data.load('/Users/jug/Dropbox/ProjectGoldstein/2016-09-22_fromMark/092216_PH-mCherry-02_w2SD mCherry.pkl')\n",
    "objects = range(len(data.object_names))\n",
    "ecells = [0,1]\n",
    "neighbors = range(2,2+12)\n",
    "others = range(2+12,2+12+7)"
   ]
  },
  {
   "cell_type": "markdown",
   "metadata": {},
   "source": [
    "# Visualisation stuff "
   ]
  },
  {
   "cell_type": "code",
   "execution_count": 8,
   "metadata": {
    "collapsed": false
   },
   "outputs": [],
   "source": [
    "w = data.show_frame(0,stackUnits=[1.,1.,5.],raise_window=True)\n",
    "data.show_objects(ecells, show_surfaces=True, show_centers=True, colors=data.colors_gold)\n",
    "try:\n",
    "    data.show_objects(neighbors, show_surfaces=True, show_centers=True, colors=data.colors_green)\n",
    "    data.show_objects(others, show_surfaces=True, show_centers=True, colors=data.colors_blue)\n",
    "except:\n",
    "    None"
   ]
  },
  {
   "cell_type": "code",
   "execution_count": 9,
   "metadata": {
    "collapsed": false
   },
   "outputs": [
    {
     "name": "stdout",
     "output_type": "stream",
     "text": [
      "Exporting frame  1 of 12\n",
      "Exporting frame  2 of 12\n",
      "Exporting frame  3 of 12\n",
      "Exporting frame  4 of 12\n",
      "Exporting frame  5 of 12\n",
      "Exporting frame  6 of 12\n",
      "Exporting frame  7 of 12\n",
      "Exporting frame  8 of 12\n",
      "Exporting frame  9 of 12\n",
      "Exporting frame  10 of 12\n",
      "Exporting frame  11 of 12\n",
      "Exporting frame  12 of 12\n"
     ]
    }
   ],
   "source": [
    "for f in range(len(data.images)):\n",
    "    print 'Exporting frame ',f+1,'of',len(data.images)\n",
    "    w = data.show_frame(f,stackUnits=[1.,1.,5.],raise_window=False)\n",
    "    data.show_objects(ecells, show_surfaces=True, show_centers=True, colors=data.colors_gold)\n",
    "    try:\n",
    "        data.show_objects(neighbors, show_surfaces=True, show_centers=True, colors=data.colors_green)\n",
    "        data.show_objects(others, show_surfaces=True, show_centers=True, colors=data.colors_blue)\n",
    "    except:\n",
    "        None\n",
    "    data.save_current_visualization( 'frame'+str(f)+'.jpg' )"
   ]
  },
  {
   "cell_type": "code",
   "execution_count": null,
   "metadata": {
    "collapsed": true
   },
   "outputs": [],
   "source": []
  }
 ],
 "metadata": {
  "kernelspec": {
   "display_name": "Python 2",
   "language": "python",
   "name": "python2"
  },
  "language_info": {
   "codemirror_mode": {
    "name": "ipython",
    "version": 2
   },
   "file_extension": ".py",
   "mimetype": "text/x-python",
   "name": "python",
   "nbconvert_exporter": "python",
   "pygments_lexer": "ipython2",
   "version": "2.7.6"
  }
 },
 "nbformat": 4,
 "nbformat_minor": 0
}
