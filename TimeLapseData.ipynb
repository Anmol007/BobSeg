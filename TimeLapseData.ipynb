{
 "cells": [
  {
   "cell_type": "code",
   "execution_count": null,
   "metadata": {
    "collapsed": false
   },
   "outputs": [],
   "source": [
    "%matplotlib qt\n",
    "\n",
    "import time\n",
    "import copy\n",
    "import numpy as np\n",
    "from skimage.filters import gaussian_filter\n",
    "\n",
    "from tifffile import imread, imsave\n",
    "import cPickle as pickle\n",
    "\n",
    "import matplotlib.pyplot as plt\n",
    "\n",
    "from spimagine import volfig, volshow\n",
    "from spimagine import EllipsoidMesh, Mesh\n",
    "\n",
    "%reload_ext autoreload\n",
    "%autoreload 2\n",
    "\n",
    "from netsurface3d import NetSurf3d\n",
    "from data4d import Data4d"
   ]
  },
  {
   "cell_type": "markdown",
   "metadata": {},
   "source": [
    "# Load time-lapse data..."
   ]
  },
  {
   "cell_type": "code",
   "execution_count": null,
   "metadata": {
    "collapsed": true
   },
   "outputs": [],
   "source": [
    "filenames = ['/Users/jug/Dropbox/ProjectGoldstein/2016-09-22_fromMark/092216_PH-mCherry-02_w2SD mCherry_t1.TIF',\n",
    "             '/Users/jug/Dropbox/ProjectGoldstein/2016-09-22_fromMark/092216_PH-mCherry-02_w2SD mCherry_t2.TIF',\n",
    "             '/Users/jug/Dropbox/ProjectGoldstein/2016-09-22_fromMark/092216_PH-mCherry-02_w2SD mCherry_t3.TIF',\n",
    "             '/Users/jug/Dropbox/ProjectGoldstein/2016-09-22_fromMark/092216_PH-mCherry-02_w2SD mCherry_t4.TIF',\n",
    "             '/Users/jug/Dropbox/ProjectGoldstein/2016-09-22_fromMark/092216_PH-mCherry-02_w2SD mCherry_t5.TIF',\n",
    "             '/Users/jug/Dropbox/ProjectGoldstein/2016-09-22_fromMark/092216_PH-mCherry-02_w2SD mCherry_t6.TIF',\n",
    "             '/Users/jug/Dropbox/ProjectGoldstein/2016-09-22_fromMark/092216_PH-mCherry-02_w2SD mCherry_t7.TIF',\n",
    "             '/Users/jug/Dropbox/ProjectGoldstein/2016-09-22_fromMark/092216_PH-mCherry-02_w2SD mCherry_t8.TIF',\n",
    "             '/Users/jug/Dropbox/ProjectGoldstein/2016-09-22_fromMark/092216_PH-mCherry-02_w2SD mCherry_t9.TIF',\n",
    "             '/Users/jug/Dropbox/ProjectGoldstein/2016-09-22_fromMark/092216_PH-mCherry-02_w2SD mCherry_t10.TIF',\n",
    "             '/Users/jug/Dropbox/ProjectGoldstein/2016-09-22_fromMark/092216_PH-mCherry-02_w2SD mCherry_t11.TIF',\n",
    "             '/Users/jug/Dropbox/ProjectGoldstein/2016-09-22_fromMark/092216_PH-mCherry-02_w2SD mCherry_t12.TIF']"
   ]
  },
  {
   "cell_type": "code",
   "execution_count": null,
   "metadata": {
    "collapsed": false
   },
   "outputs": [],
   "source": [
    "data = Data4d( filenames, pixelsize=(1.,1.,5.), silent=False )\n",
    "data.set_seg_params(K=40,max_delta_k=4)\n",
    "objects = []\n",
    "ecells = []\n",
    "neighbors = []\n",
    "others = []"
   ]
  },
  {
   "cell_type": "code",
   "execution_count": null,
   "metadata": {
    "collapsed": false
   },
   "outputs": [],
   "source": [
    "max_rs = (data.images[0].shape[2] / 8,\n",
    "          data.images[0].shape[1] / 8,\n",
    "          data.images[0].shape[0] / 3)\n",
    "\n",
    "min_rs = (10,10,2)"
   ]
  },
  {
   "cell_type": "code",
   "execution_count": null,
   "metadata": {
    "collapsed": false
   },
   "outputs": [],
   "source": [
    "Ea = data.init_object(\"Ea\")\n",
    "objects.append(Ea)\n",
    "ecells.append(Ea)"
   ]
  },
  {
   "cell_type": "code",
   "execution_count": null,
   "metadata": {
    "collapsed": false
   },
   "outputs": [],
   "source": [
    "data.add_object_at( Ea, min_rs, max_rs, frame=0, seed=(110,300,12), frame_to=11, seed_to=(105,310,16), segment_it=True )\n",
    "# data.add_object_at( Ea, min_rs, max_rs, frame=0, seed=(110,300,12), segment_it=True )\n",
    "# data.track(Ea, seed_frame=0, target_frames=range(1,len(data.images)), recenter_iterations=1)"
   ]
  },
  {
   "cell_type": "code",
   "execution_count": null,
   "metadata": {
    "collapsed": false
   },
   "outputs": [],
   "source": [
    "Ep = data.init_object(\"Ep\")\n",
    "objects.append(Ep)\n",
    "ecells.append(Ep)"
   ]
  },
  {
   "cell_type": "code",
   "execution_count": null,
   "metadata": {
    "collapsed": false
   },
   "outputs": [],
   "source": [
    "data.add_object_at( Ep, min_rs, max_rs, frame=0, seed=(110,350,12), frame_to=11, seed_to=(140,360,16), segment_it=True )"
   ]
  },
  {
   "cell_type": "code",
   "execution_count": null,
   "metadata": {
    "collapsed": false
   },
   "outputs": [],
   "source": [
    "oid = data.init_object(\"n1\")\n",
    "data.add_object_at( oid, min_rs, max_rs, frame=0, seed=( 90,390,12), frame_to=11, seed_to=( 90,380,12) )\n",
    "objects.append(oid)\n",
    "neighbors.append(oid)\n",
    "\n",
    "oid = data.init_object(\"n2\")\n",
    "data.add_object_at( oid, min_rs, max_rs, frame=0, seed=(150,410,12), frame_to=11, seed_to=(135,415,12) )\n",
    "objects.append(oid)\n",
    "neighbors.append(oid)"
   ]
  },
  {
   "cell_type": "markdown",
   "metadata": {},
   "source": [
    "# Save / Load "
   ]
  },
  {
   "cell_type": "code",
   "execution_count": null,
   "metadata": {
    "collapsed": false
   },
   "outputs": [],
   "source": [
    "data.save('/Users/jug/Dropbox/ProjectGoldstein/2016-09-22_fromMark/092216_PH-mCherry-02_w2SD mCherry.pkl')"
   ]
  },
  {
   "cell_type": "code",
   "execution_count": null,
   "metadata": {
    "collapsed": false
   },
   "outputs": [],
   "source": [
    "data = Data4d( [], silent=False )\n",
    "data.load('/Users/jug/Dropbox/ProjectGoldstein/2016-09-22_fromMark/092216_PH-mCherry-02_w2SD mCherry.pkl')\n",
    "objects = range(len(data.object_names))\n",
    "ecells = [0,1]\n",
    "neighbors = []"
   ]
  },
  {
   "cell_type": "markdown",
   "metadata": {},
   "source": [
    "# Visualisation stuff "
   ]
  },
  {
   "cell_type": "code",
   "execution_count": null,
   "metadata": {
    "collapsed": false
   },
   "outputs": [],
   "source": [
    "w = data.show_frame(10,stackUnits=[1.,1.,5.],raise_window=True)\n",
    "data.show_objects(ecells, show_surfaces=True, show_centers=True, colors=data.colors_gold)\n",
    "data.show_objects(neighbors, show_surfaces=True, show_centers=True, colors=data.colors_green)"
   ]
  },
  {
   "cell_type": "code",
   "execution_count": null,
   "metadata": {
    "collapsed": false
   },
   "outputs": [],
   "source": [
    "for f in range(len(data.images)):\n",
    "    print 'Exporting frame ',f+1,'of',len(data.images)\n",
    "    w = data.show_frame(f,stackUnits=[1.,1.,5.],raise_window=False)\n",
    "    data.show_objects(ecells, show_surfaces=True, show_centers=True, colors=data.colors_gold)\n",
    "    data.show_objects(neighbors, show_surfaces=True, show_centers=True, colors=data.colors_green)\n",
    "    data.save_current_visualization( 'frame'+str(f)+'.jpg' )"
   ]
  },
  {
   "cell_type": "code",
   "execution_count": null,
   "metadata": {
    "collapsed": true
   },
   "outputs": [],
   "source": []
  }
 ],
 "metadata": {
  "kernelspec": {
   "display_name": "Python 2",
   "language": "python",
   "name": "python2"
  },
  "language_info": {
   "codemirror_mode": {
    "name": "ipython",
    "version": 2
   },
   "file_extension": ".py",
   "mimetype": "text/x-python",
   "name": "python",
   "nbconvert_exporter": "python",
   "pygments_lexer": "ipython2",
   "version": "2.7.6"
  }
 },
 "nbformat": 4,
 "nbformat_minor": 0
}
