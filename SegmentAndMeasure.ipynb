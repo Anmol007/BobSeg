{
 "cells": [
  {
   "cell_type": "code",
   "execution_count": 1,
   "metadata": {
    "collapsed": false
   },
   "outputs": [
    {
     "name": "stdout",
     "output_type": "stream",
     "text": [
      "<pyopencl.Device 'HD Graphics 4000' on 'Apple' at 0x1024400>\n"
     ]
    },
    {
     "name": "stderr",
     "output_type": "stream",
     "text": [
      "/Users/jug/Library/Enthought/Canopy_64bit/User/lib/python2.7/site-packages/pyopencl/__init__.py:207: CompilerWarning: Non-empty compiler output encountered. Set the environment variable PYOPENCL_COMPILER_OUTPUT=1 to see more.\n",
      "  \"to see more.\", CompilerWarning)\n"
     ]
    },
    {
     "name": "stdout",
     "output_type": "stream",
     "text": [
      "could not open /Users/jug/.spimagine\n",
      "<pyopencl.Device 'HD Graphics 4000' on 'Apple' at 0x1024400>\n"
     ]
    }
   ],
   "source": [
    "%matplotlib qt\n",
    "\n",
    "import time\n",
    "import numpy as np\n",
    "from skimage.filters import gaussian_filter\n",
    "\n",
    "from tifffile import imread, imsave\n",
    "import cPickle as pickle\n",
    "\n",
    "from spimagine import volshow\n",
    "from spimagine import EllipsoidMesh, Mesh\n",
    "\n",
    "%reload_ext autoreload\n",
    "%autoreload 2\n",
    "\n",
    "from netsurface3d import NetSurf3d"
   ]
  },
  {
   "cell_type": "markdown",
   "metadata": {},
   "source": [
    "# Load dataset and show in Spimagine "
   ]
  },
  {
   "cell_type": "code",
   "execution_count": 8,
   "metadata": {
    "collapsed": false
   },
   "outputs": [
    {
     "name": "stdout",
     "output_type": "stream",
     "text": [
      "Image dimensions:  (31, 512, 512)\n",
      "Dataset now visible in separate Spimagine window...\n"
     ]
    }
   ],
   "source": [
    "filename = '/Users/jug/Dropbox/ProjectGoldstein/2016-09-22_fromMark/092216_PH-mCherry-02_w2SD mCherry_t1.TIF'\n",
    "image = imread(filename)\n",
    "print 'Image dimensions: ', image.shape\n",
    "\n",
    "volwin = volshow(image, stackUnits = [1.,1.,5.], raise_window=False)\n",
    "print 'Dataset now visible in separate Spimagine window...'"
   ]
  },
  {
   "cell_type": "markdown",
   "metadata": {},
   "source": [
    "# Load vectors sampling unit sphere "
   ]
  },
  {
   "cell_type": "code",
   "execution_count": 3,
   "metadata": {
    "collapsed": true
   },
   "outputs": [],
   "source": [
    "# load pickeled unit sphere sampling\n",
    "with open('sphere_sampling.pkl','r') as f:\n",
    "    dictSphereData = pickle.load(f)\n",
    "    \n",
    "# sampling parameters\n",
    "vectors = dictSphereData['points']\n",
    "neighbors = dictSphereData['neighbors']\n",
    "neighbors_of = dictSphereData['neighbors_of']\n",
    "triangles = dictSphereData['triangles']"
   ]
  },
  {
   "cell_type": "markdown",
   "metadata": {},
   "source": [
    "# Do segmentations using NetSurf3d"
   ]
  },
  {
   "cell_type": "code",
   "execution_count": 4,
   "metadata": {
    "collapsed": false
   },
   "outputs": [],
   "source": [
    "K = 30\n",
    "max_delta_k = 3\n",
    "\n",
    "# E cells\n",
    "# -------\n",
    "cell1 = NetSurf3d( vectors, triangles, neighbors_of, K=K, max_delta_k=max_delta_k )\n",
    "cell1_center = (110,300,12)\n",
    "\n",
    "cell2 = NetSurf3d( vectors, triangles, neighbors_of, K=K, max_delta_k=max_delta_k )\n",
    "cell2_center = (110,350,12)\n",
    "\n",
    "# Neighbors\n",
    "# ---------\n",
    "nn = 11\n",
    "cells = [None] * nn\n",
    "ccenters = [None] * nn\n",
    "\n",
    "max_delta_ks = [3] * nn\n",
    "max_delta_ks[0] = 2\n",
    "max_delta_ks[7] = 2\n",
    "\n",
    "for i in range(nn):\n",
    "    cells[i] = NetSurf3d( vectors, triangles, neighbors_of, K=K, max_delta_k=max_delta_ks[i] )\n",
    "\n",
    "ccenters[0]  = ( 90,390,12)\n",
    "ccenters[1]  = (150,410,12)\n",
    "ccenters[2]  = (200,390,12)\n",
    "ccenters[3]  = (190,315,12)\n",
    "ccenters[4]  = (145,265,12)\n",
    "ccenters[5]  = (110,230,12)\n",
    "ccenters[6]  = ( 40,255,12)\n",
    "ccenters[7]  = ( 45,300,18)\n",
    "ccenters[8]  = ( 67,355,18)\n",
    "\n",
    "ccenters[9]  = (110,300,22)\n",
    "ccenters[10] = (110,350,22)\n",
    "\n",
    "# ccenters[11] = ( 70,200,12)\n"
   ]
  },
  {
   "cell_type": "code",
   "execution_count": 5,
   "metadata": {
    "collapsed": false
   },
   "outputs": [
    {
     "name": "stdout",
     "output_type": "stream",
     "text": [
      "Optimum energy cell 1:  112544.0\n",
      "Nodes in/out:  5509 9851\n",
      "Optimum energy cell 2:  94873.0\n",
      "Nodes in/out:  6771 8589\n",
      "Segmenting  11  more cells:  . . . . . . . . . . .  done!\n"
     ]
    }
   ],
   "source": [
    "max_rs = (image.shape[2] / 6,\n",
    "          image.shape[1] / 6,\n",
    "          image.shape[0] / 3)\n",
    "\n",
    "min_rs = (10,10,2)\n",
    "\n",
    "optimum = cell1.apply_to( image, cell1_center, max_rs, min_radii=min_rs )\n",
    "print 'Optimum energy cell 1: ', optimum\n",
    "ins, outs = cell1.get_counts()\n",
    "print 'Nodes in/out: ', ins, outs\n",
    "\n",
    "optimum = cell2.apply_to( image, cell2_center, max_rs ) #, min_radii=min_rs )\n",
    "print 'Optimum energy cell 2: ', optimum\n",
    "ins, outs = cell2.get_counts()\n",
    "print 'Nodes in/out: ', ins, outs\n",
    "\n",
    "print 'Segmenting ', nn, ' more cells: ',\n",
    "for i in range(nn):\n",
    "    cells[i].apply_to( image, ccenters[i], max_rs, min_radii=min_rs )\n",
    "    print '.',\n",
    "print ' done!'"
   ]
  },
  {
   "cell_type": "code",
   "execution_count": 6,
   "metadata": {
    "collapsed": true
   },
   "outputs": [],
   "source": [
    "colors_red = [(1.,.2,.2*i) for i in range(6)]\n",
    "colors_gold = [(1.,.8,.15*i) for i in range(6)]\n",
    "colors_yellow = [(1.,1.,.9-.15*i) for i in range(6)]\n",
    "colors_green = [(.4,1.,.9-.1*i) for i in range(6)]\n",
    "colors_blue = [(0.,0.,.9-.15*i) for i in range(6)]\n",
    "\n",
    "colors = colors_green"
   ]
  },
  {
   "cell_type": "code",
   "execution_count": 17,
   "metadata": {
    "collapsed": true
   },
   "outputs": [],
   "source": [
    "#remove all meshes\n",
    "while len(volwin.glWidget.meshes)>0:\n",
    "    volwin.glWidget.meshes.pop(0)\n",
    "volwin.glWidget.refresh()"
   ]
  },
  {
   "cell_type": "code",
   "execution_count": 18,
   "metadata": {
    "collapsed": false
   },
   "outputs": [],
   "source": [
    "mesh1 = cell1.create_surface_mesh( facecolor=colors_gold[0] )\n",
    "volwin.glWidget.add_mesh( mesh1 )\n",
    "\n",
    "mesh2 = cell2.create_surface_mesh( facecolor=colors_gold[2] )\n",
    "volwin.glWidget.add_mesh( mesh2 )"
   ]
  },
  {
   "cell_type": "code",
   "execution_count": 19,
   "metadata": {
    "collapsed": false
   },
   "outputs": [],
   "source": [
    "for i in range(nn):\n",
    "    fc = colors[i%len(colors)]\n",
    "    m = cells[i].create_center_mesh( facecolor=fc )\n",
    "    volwin.glWidget.add_mesh( m )"
   ]
  },
  {
   "cell_type": "code",
   "execution_count": 20,
   "metadata": {
    "collapsed": true
   },
   "outputs": [],
   "source": [
    "for i in range(nn-2):\n",
    "    fc = colors[i%len(colors)]\n",
    "    m = cells[i].create_surface_mesh( facecolor=fc )\n",
    "    volwin.glWidget.add_mesh( m )"
   ]
  },
  {
   "cell_type": "markdown",
   "metadata": {},
   "source": [
    "# Measure Volume"
   ]
  },
  {
   "cell_type": "code",
   "execution_count": 78,
   "metadata": {
    "collapsed": false
   },
   "outputs": [
    {
     "name": "stdout",
     "output_type": "stream",
     "text": [
      "Volume of e cell 1: 135744.166667  - thats equivalent to a cube of side length  51.3933655165\n",
      "Volume of e cell 2: 124986.666667  - thats equivalent to a cube of side length  49.998222159\n",
      "\n",
      "Volume of cell 1  is  50896.6666667\n",
      "Volume of cell 2  is  56050.0\n",
      "Volume of cell 3  is  127605.833333\n",
      "Volume of cell 4  is  113885.0\n",
      "Volume of cell 5  is  86240.0\n",
      "Volume of cell 6  is  146724.166667\n",
      "Volume of cell 7  is  100952.5\n",
      "Volume of cell 8  is  142212.5\n"
     ]
    }
   ],
   "source": [
    "calibration = (1.,1.,5.)\n",
    "\n",
    "v1 = cell1.get_volume(calibration)\n",
    "v2 = cell2.get_volume(calibration)\n",
    "print 'Volume of e cell 1:', v1, ' - thats equivalent to a cube of side length ', v1**(1./3)\n",
    "print 'Volume of e cell 2:', v2, ' - thats equivalent to a cube of side length ', v2**(1./3)\n",
    "print \n",
    "\n",
    "for i in range(nn):\n",
    "    v = cells[i].get_volume(calibration)\n",
    "    print 'Volume of cell',i+1,' is ', v\n",
    "\n",
    "#idea 2: filter all points between to results that are closer then come value d. compute area of all \n",
    "#        triangles defines by those points - touching surface!"
   ]
  },
  {
   "cell_type": "code",
   "execution_count": null,
   "metadata": {
    "collapsed": true
   },
   "outputs": [],
   "source": []
  }
 ],
 "metadata": {
  "kernelspec": {
   "display_name": "Python 2",
   "language": "python",
   "name": "python2"
  },
  "language_info": {
   "codemirror_mode": {
    "name": "ipython",
    "version": 2
   },
   "file_extension": ".py",
   "mimetype": "text/x-python",
   "name": "python",
   "nbconvert_exporter": "python",
   "pygments_lexer": "ipython2",
   "version": "2.7.6"
  }
 },
 "nbformat": 4,
 "nbformat_minor": 0
}
