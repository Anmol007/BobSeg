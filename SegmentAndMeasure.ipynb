{
 "cells": [
  {
   "cell_type": "code",
   "execution_count": 2,
   "metadata": {
    "collapsed": false
   },
   "outputs": [
    {
     "name": "stdout",
     "output_type": "stream",
     "text": [
      "<pyopencl.Device 'HD Graphics 4000' on 'Apple' at 0x1024400>\n"
     ]
    },
    {
     "name": "stderr",
     "output_type": "stream",
     "text": [
      "/Users/jug/Library/Enthought/Canopy_64bit/User/lib/python2.7/site-packages/pyopencl/__init__.py:207: CompilerWarning: Non-empty compiler output encountered. Set the environment variable PYOPENCL_COMPILER_OUTPUT=1 to see more.\n",
      "  \"to see more.\", CompilerWarning)\n"
     ]
    },
    {
     "name": "stdout",
     "output_type": "stream",
     "text": [
      "could not open /Users/jug/.spimagine\n",
      "<pyopencl.Device 'HD Graphics 4000' on 'Apple' at 0x1024400>\n"
     ]
    }
   ],
   "source": [
    "%matplotlib qt\n",
    "\n",
    "import time\n",
    "import numpy as np\n",
    "from skimage.filters import gaussian_filter\n",
    "\n",
    "from tifffile import imread, imsave\n",
    "import cPickle as pickle\n",
    "\n",
    "from spimagine import volshow\n",
    "from spimagine import EllipsoidMesh, Mesh\n",
    "\n",
    "%reload_ext autoreload\n",
    "%autoreload 2\n",
    "\n",
    "from netsurface3d import NetSurf3d"
   ]
  },
  {
   "cell_type": "markdown",
   "metadata": {},
   "source": [
    "# Load dataset and show in Spimagine "
   ]
  },
  {
   "cell_type": "code",
   "execution_count": 3,
   "metadata": {
    "collapsed": false
   },
   "outputs": [
    {
     "name": "stdout",
     "output_type": "stream",
     "text": [
      "Image dimensions:  (31, 512, 512)\n",
      "Dataset now visible in separate Spimagine window...\n"
     ]
    }
   ],
   "source": [
    "filename = '/Users/jug/Dropbox/ProjectGoldstein/2016-09-22_fromMark/092216_PH-mCherry-02_w2SD mCherry_t1.TIF'\n",
    "image = imread(filename)\n",
    "print 'Image dimensions: ', image.shape\n",
    "\n",
    "volwin = volshow(image, stackUnits = [1.,1.,5.], raise_window=False)\n",
    "print 'Dataset now visible in separate Spimagine window...'"
   ]
  },
  {
   "cell_type": "markdown",
   "metadata": {},
   "source": [
    "# Load vectors sampling unit sphere "
   ]
  },
  {
   "cell_type": "code",
   "execution_count": 4,
   "metadata": {
    "collapsed": true
   },
   "outputs": [],
   "source": [
    "# load pickeled unit sphere sampling\n",
    "with open('sphere_sampling.pkl','r') as f:\n",
    "    dictSphereData = pickle.load(f)\n",
    "    \n",
    "# sampling parameters\n",
    "vectors = dictSphereData['points']\n",
    "neighbors = dictSphereData['neighbors']\n",
    "neighbors_of = dictSphereData['neighbors_of']"
   ]
  },
  {
   "cell_type": "markdown",
   "metadata": {},
   "source": [
    "# Do segmentations using NetSurf3d"
   ]
  },
  {
   "cell_type": "code",
   "execution_count": 15,
   "metadata": {
    "collapsed": false
   },
   "outputs": [],
   "source": [
    "cell1 = NetSurf3d( vectors, neighbors_of, K=30, max_delta_k=4 )\n",
    "cell1_center = (110,300,15)\n",
    "\n",
    "cell2 = NetSurf3d( vectors, neighbors_of, K=30, max_delta_k=4 )\n",
    "cell2_center = (110,350,15)"
   ]
  },
  {
   "cell_type": "code",
   "execution_count": 16,
   "metadata": {
    "collapsed": false
   },
   "outputs": [
    {
     "name": "stdout",
     "output_type": "stream",
     "text": [
      "Optimum energy cell 1:  95414.0\n",
      "Nodes in/out:  8351 7009\n",
      "Optimum energy cell 2:  93564.0\n",
      "Nodes in/out:  7743 7617\n"
     ]
    }
   ],
   "source": [
    "max_rs = (image.shape[2] / 6,\n",
    "          image.shape[1] / 6,\n",
    "          image.shape[0] / 3)\n",
    "\n",
    "optimum = cell1.apply_to( image, cell1_center, max_rs )\n",
    "print 'Optimum energy cell 1: ', optimum\n",
    "ins, outs = cell1.get_counts()\n",
    "print 'Nodes in/out: ', ins, outs\n",
    "\n",
    "optimum = cell2.apply_to( image, cell2_center, max_rs )\n",
    "print 'Optimum energy cell 2: ', optimum\n",
    "ins, outs = cell2.get_counts()\n",
    "print 'Nodes in/out: ', ins, outs"
   ]
  },
  {
   "cell_type": "code",
   "execution_count": 17,
   "metadata": {
    "collapsed": true
   },
   "outputs": [],
   "source": [
    "green = (.7,1.,.3)\n",
    "turq = (.3,1.,.7)\n",
    "orange = (.5,.3,.2)\n",
    "red = (.5,.2,.2)"
   ]
  },
  {
   "cell_type": "code",
   "execution_count": 34,
   "metadata": {
    "collapsed": false
   },
   "outputs": [],
   "source": [
    "#remove all meshes\n",
    "while len(volwin.glWidget.meshes)>0:\n",
    "    volwin.glWidget.meshes.pop(0)\n",
    "volwin.glWidget.refresh()\n",
    "\n",
    "mesh1 = cell1.create_surface_mesh( facecolor=green )\n",
    "volwin.glWidget.add_mesh( mesh1 )\n",
    "\n",
    "# mesh_center = EllipsoidMesh(rs=cell1.norm_radii((3,3,.5),image.shape), \n",
    "#                             pos=cell1.norm_coords(center,image.shape), \n",
    "#                             facecolor=green, alpha=.5)\n",
    "# volwin.glWidget.add_mesh(mesh_center)"
   ]
  },
  {
   "cell_type": "code",
   "execution_count": 35,
   "metadata": {
    "collapsed": false
   },
   "outputs": [],
   "source": [
    "mesh2 = cell2.create_surface_mesh( facecolor=red )\n",
    "\n",
    "# for i in range(5):\n",
    "#     volwin.glWidget.add_mesh( mesh2 )\n",
    "#     volwin.glWidget.refresh()\n",
    "#     time.sleep(1)\n",
    "\n",
    "#     volwin.glWidget.meshes.pop(-1)\n",
    "#     volwin.glWidget.refresh()\n",
    "#     time.sleep(1)\n",
    "    \n",
    "volwin.glWidget.add_mesh( mesh2 )\n",
    "volwin.glWidget.refresh()"
   ]
  },
  {
   "cell_type": "markdown",
   "metadata": {},
   "source": [
    "# Measure Volume"
   ]
  },
  {
   "cell_type": "code",
   "execution_count": null,
   "metadata": {
    "collapsed": true
   },
   "outputs": [],
   "source": [
    "#idea 1: compute volume of all pyramids defines by center point and triangle I also used for cell mesh\n",
    "\n",
    "#idea 2: filter all points between to results that are closer then come value d. compute area of all \n",
    "#        triangles defines by those points - touching surface!"
   ]
  }
 ],
 "metadata": {
  "kernelspec": {
   "display_name": "Python 2",
   "language": "python",
   "name": "python2"
  },
  "language_info": {
   "codemirror_mode": {
    "name": "ipython",
    "version": 2
   },
   "file_extension": ".py",
   "mimetype": "text/x-python",
   "name": "python",
   "nbconvert_exporter": "python",
   "pygments_lexer": "ipython2",
   "version": "2.7.6"
  }
 },
 "nbformat": 4,
 "nbformat_minor": 0
}
